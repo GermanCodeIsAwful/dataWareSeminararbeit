{
 "cells": [
  {
   "cell_type": "code",
   "execution_count": 33,
   "metadata": {
    "collapsed": true,
    "ExecuteTime": {
     "end_time": "2024-02-28T17:05:38.073671200Z",
     "start_time": "2024-02-28T17:05:38.013579100Z"
    }
   },
   "outputs": [],
   "source": [
    "import pandas as pd\n",
    "import numpy as np\n",
    "import matplotlib.pyplot as plt\n",
    "import os"
   ]
  },
  {
   "cell_type": "markdown",
   "source": [
    "\"Automobile Data Set\" from the following link: https://archive.ics.uci.edu/ml/machine-learning-databases/autos/imports-85.data.\n",
    "\n",
    "its normalized losses in use as compared to other cars. The second rating corresponds to the degree to which the auto is more risky than its price indicates. Cars are initially assigned a risk factor symbol associated with its price. Then, if it is more risky (or less), this symbol is adjusted by moving it up (or down) the scale. Actuarians call this process \"symboling\". A value of +3 indicates that the auto is risky, -3 that it is probably pretty safe. The third factor is the relative average loss payment per insured vehicle year. This value is normalized for all autos within a particular size classification (two-door small, station wagons, sports/specialty, etc…), and represents the average loss per car per year.\n",
    "\n",
    "- symboling: -3, -2, -1, 0, 1, 2, 3\n",
    "- normalized-losses: continuous from 65 to 256\n",
    "- make: alfa-romero, audi, bmw, chevrolet, dodge, honda, isuzu, jaguar, mazda, mercedes-benz, mercury, mitsubishi, nissan, peugot, plymouth, porsche, renault, saab, subaru, toyota, volkswagen, volvo\n",
    "- fuel-type: diesel, gas\n",
    "- aspiration: std, turbo\n",
    "- num-of-doors: four, two\n",
    "- body-style: hardtop, wagon, sedan, hatchback, convertible\n",
    "- drive-wheels: 4wd, fwd, rwd\n",
    "- engine-location: front, rear\n",
    "- wheel-base: continuous from 86.6 120.9\n",
    "- length: continuous from 141.1 to 208.1\n",
    "- width: continuous from 60.3 to 72.3\n",
    "- height: continuous from 47.8 to 59.8\n",
    "- curb-weight: continuous from 1488 to 4066\n",
    "- engine-type: dohc, dohcv, l, ohc, ohcf, ohcv, rotor\n",
    "- num-of-cylinders: eight, five, four, six, three, twelve, two\n",
    "- engine-size: continuous from 61 to 326\n",
    "- fuel-system: 1bbl, 2bbl, 4bbl, idi, mfi, mpfi, spdi, spfi\n",
    "- bore: continuous from 2.54 to 3.94\n",
    "- stroke: continuous from 2.07 to 4.17\n",
    "- compression-ratio: continuous from 7 to 23\n",
    "- horsepower: continuous from 48 to 288\n",
    "- peak-rpm: continuous from 4150 to 6600\n",
    "- city-mpg: continuous from 13 to 49\n",
    "- highway-mpg: continuous from 16 to 54\n",
    "- price: continuous from 5118 to 45400."
   ],
   "metadata": {
    "collapsed": false
   }
  },
  {
   "cell_type": "markdown",
   "source": [
    "## Bronze Schicht"
   ],
   "metadata": {
    "collapsed": false
   }
  },
  {
   "cell_type": "code",
   "execution_count": 34,
   "outputs": [
    {
     "data": {
      "text/plain": "   risikoniveau normalisierter-verlustwert        marke kraftstofftyp   \n0             3                          ?  alfa-romero           gas  \\\n1             3                          ?  alfa-romero           gas   \n2             1                          ?  alfa-romero           gas   \n3             2                        164         audi           gas   \n4             2                        164         audi           gas   \n5             2                          ?         audi           gas   \n6             1                        158         audi           gas   \n7             1                          ?         audi           gas   \n8             1                        158         audi           gas   \n9             0                          ?         audi           gas   \n\n  absaugung türnummern   körperform antriebsräder motorstandort  radstand   \n0       std        two  convertible           rwd         front      88.6  \\\n1       std        two  convertible           rwd         front      88.6   \n2       std        two    hatchback           rwd         front      94.5   \n3       std       four        sedan           fwd         front      99.8   \n4       std       four        sedan           4wd         front      99.4   \n5       std        two        sedan           fwd         front      99.8   \n6       std       four        sedan           fwd         front     105.8   \n7       std       four        wagon           fwd         front     105.8   \n8     turbo       four        sedan           fwd         front     105.8   \n9     turbo        two    hatchback           4wd         front      99.5   \n\n   ...  motorgröße  kraftstoffsystem  bohrung  anschlag   \n0  ...         130              mpfi     3.47      2.68  \\\n1  ...         130              mpfi     3.47      2.68   \n2  ...         152              mpfi     2.68      3.47   \n3  ...         109              mpfi     3.19      3.40   \n4  ...         136              mpfi     3.19      3.40   \n5  ...         136              mpfi     3.19      3.40   \n6  ...         136              mpfi     3.19      3.40   \n7  ...         136              mpfi     3.19      3.40   \n8  ...         131              mpfi     3.13      3.40   \n9  ...         131              mpfi     3.13      3.40   \n\n  verdichtungsverhältnis pferdestärken  spitzendrehzahl stadt-mpg   \n0                    9.0           111             5000        21  \\\n1                    9.0           111             5000        21   \n2                    9.0           154             5000        19   \n3                   10.0           102             5500        24   \n4                    8.0           115             5500        18   \n5                    8.5           110             5500        19   \n6                    8.5           110             5500        19   \n7                    8.5           110             5500        19   \n8                    8.3           140             5500        17   \n9                    7.0           160             5500        16   \n\n  autobahn-mpg  preis  \n0           27  13495  \n1           27  16500  \n2           26  16500  \n3           30  13950  \n4           22  17450  \n5           25  15250  \n6           25  17710  \n7           25  18920  \n8           20  23875  \n9           22      ?  \n\n[10 rows x 26 columns]",
      "text/html": "<div>\n<style scoped>\n    .dataframe tbody tr th:only-of-type {\n        vertical-align: middle;\n    }\n\n    .dataframe tbody tr th {\n        vertical-align: top;\n    }\n\n    .dataframe thead th {\n        text-align: right;\n    }\n</style>\n<table border=\"1\" class=\"dataframe\">\n  <thead>\n    <tr style=\"text-align: right;\">\n      <th></th>\n      <th>risikoniveau</th>\n      <th>normalisierter-verlustwert</th>\n      <th>marke</th>\n      <th>kraftstofftyp</th>\n      <th>absaugung</th>\n      <th>türnummern</th>\n      <th>körperform</th>\n      <th>antriebsräder</th>\n      <th>motorstandort</th>\n      <th>radstand</th>\n      <th>...</th>\n      <th>motorgröße</th>\n      <th>kraftstoffsystem</th>\n      <th>bohrung</th>\n      <th>anschlag</th>\n      <th>verdichtungsverhältnis</th>\n      <th>pferdestärken</th>\n      <th>spitzendrehzahl</th>\n      <th>stadt-mpg</th>\n      <th>autobahn-mpg</th>\n      <th>preis</th>\n    </tr>\n  </thead>\n  <tbody>\n    <tr>\n      <th>0</th>\n      <td>3</td>\n      <td>?</td>\n      <td>alfa-romero</td>\n      <td>gas</td>\n      <td>std</td>\n      <td>two</td>\n      <td>convertible</td>\n      <td>rwd</td>\n      <td>front</td>\n      <td>88.6</td>\n      <td>...</td>\n      <td>130</td>\n      <td>mpfi</td>\n      <td>3.47</td>\n      <td>2.68</td>\n      <td>9.0</td>\n      <td>111</td>\n      <td>5000</td>\n      <td>21</td>\n      <td>27</td>\n      <td>13495</td>\n    </tr>\n    <tr>\n      <th>1</th>\n      <td>3</td>\n      <td>?</td>\n      <td>alfa-romero</td>\n      <td>gas</td>\n      <td>std</td>\n      <td>two</td>\n      <td>convertible</td>\n      <td>rwd</td>\n      <td>front</td>\n      <td>88.6</td>\n      <td>...</td>\n      <td>130</td>\n      <td>mpfi</td>\n      <td>3.47</td>\n      <td>2.68</td>\n      <td>9.0</td>\n      <td>111</td>\n      <td>5000</td>\n      <td>21</td>\n      <td>27</td>\n      <td>16500</td>\n    </tr>\n    <tr>\n      <th>2</th>\n      <td>1</td>\n      <td>?</td>\n      <td>alfa-romero</td>\n      <td>gas</td>\n      <td>std</td>\n      <td>two</td>\n      <td>hatchback</td>\n      <td>rwd</td>\n      <td>front</td>\n      <td>94.5</td>\n      <td>...</td>\n      <td>152</td>\n      <td>mpfi</td>\n      <td>2.68</td>\n      <td>3.47</td>\n      <td>9.0</td>\n      <td>154</td>\n      <td>5000</td>\n      <td>19</td>\n      <td>26</td>\n      <td>16500</td>\n    </tr>\n    <tr>\n      <th>3</th>\n      <td>2</td>\n      <td>164</td>\n      <td>audi</td>\n      <td>gas</td>\n      <td>std</td>\n      <td>four</td>\n      <td>sedan</td>\n      <td>fwd</td>\n      <td>front</td>\n      <td>99.8</td>\n      <td>...</td>\n      <td>109</td>\n      <td>mpfi</td>\n      <td>3.19</td>\n      <td>3.40</td>\n      <td>10.0</td>\n      <td>102</td>\n      <td>5500</td>\n      <td>24</td>\n      <td>30</td>\n      <td>13950</td>\n    </tr>\n    <tr>\n      <th>4</th>\n      <td>2</td>\n      <td>164</td>\n      <td>audi</td>\n      <td>gas</td>\n      <td>std</td>\n      <td>four</td>\n      <td>sedan</td>\n      <td>4wd</td>\n      <td>front</td>\n      <td>99.4</td>\n      <td>...</td>\n      <td>136</td>\n      <td>mpfi</td>\n      <td>3.19</td>\n      <td>3.40</td>\n      <td>8.0</td>\n      <td>115</td>\n      <td>5500</td>\n      <td>18</td>\n      <td>22</td>\n      <td>17450</td>\n    </tr>\n    <tr>\n      <th>5</th>\n      <td>2</td>\n      <td>?</td>\n      <td>audi</td>\n      <td>gas</td>\n      <td>std</td>\n      <td>two</td>\n      <td>sedan</td>\n      <td>fwd</td>\n      <td>front</td>\n      <td>99.8</td>\n      <td>...</td>\n      <td>136</td>\n      <td>mpfi</td>\n      <td>3.19</td>\n      <td>3.40</td>\n      <td>8.5</td>\n      <td>110</td>\n      <td>5500</td>\n      <td>19</td>\n      <td>25</td>\n      <td>15250</td>\n    </tr>\n    <tr>\n      <th>6</th>\n      <td>1</td>\n      <td>158</td>\n      <td>audi</td>\n      <td>gas</td>\n      <td>std</td>\n      <td>four</td>\n      <td>sedan</td>\n      <td>fwd</td>\n      <td>front</td>\n      <td>105.8</td>\n      <td>...</td>\n      <td>136</td>\n      <td>mpfi</td>\n      <td>3.19</td>\n      <td>3.40</td>\n      <td>8.5</td>\n      <td>110</td>\n      <td>5500</td>\n      <td>19</td>\n      <td>25</td>\n      <td>17710</td>\n    </tr>\n    <tr>\n      <th>7</th>\n      <td>1</td>\n      <td>?</td>\n      <td>audi</td>\n      <td>gas</td>\n      <td>std</td>\n      <td>four</td>\n      <td>wagon</td>\n      <td>fwd</td>\n      <td>front</td>\n      <td>105.8</td>\n      <td>...</td>\n      <td>136</td>\n      <td>mpfi</td>\n      <td>3.19</td>\n      <td>3.40</td>\n      <td>8.5</td>\n      <td>110</td>\n      <td>5500</td>\n      <td>19</td>\n      <td>25</td>\n      <td>18920</td>\n    </tr>\n    <tr>\n      <th>8</th>\n      <td>1</td>\n      <td>158</td>\n      <td>audi</td>\n      <td>gas</td>\n      <td>turbo</td>\n      <td>four</td>\n      <td>sedan</td>\n      <td>fwd</td>\n      <td>front</td>\n      <td>105.8</td>\n      <td>...</td>\n      <td>131</td>\n      <td>mpfi</td>\n      <td>3.13</td>\n      <td>3.40</td>\n      <td>8.3</td>\n      <td>140</td>\n      <td>5500</td>\n      <td>17</td>\n      <td>20</td>\n      <td>23875</td>\n    </tr>\n    <tr>\n      <th>9</th>\n      <td>0</td>\n      <td>?</td>\n      <td>audi</td>\n      <td>gas</td>\n      <td>turbo</td>\n      <td>two</td>\n      <td>hatchback</td>\n      <td>4wd</td>\n      <td>front</td>\n      <td>99.5</td>\n      <td>...</td>\n      <td>131</td>\n      <td>mpfi</td>\n      <td>3.13</td>\n      <td>3.40</td>\n      <td>7.0</td>\n      <td>160</td>\n      <td>5500</td>\n      <td>16</td>\n      <td>22</td>\n      <td>?</td>\n    </tr>\n  </tbody>\n</table>\n<p>10 rows × 26 columns</p>\n</div>"
     },
     "metadata": {},
     "output_type": "display_data"
    }
   ],
   "source": [
    "headers = [\"risikoniveau\",\"normalisierter-verlustwert\",\"marke\",\"kraftstofftyp\",\"absaugung\", \"türnummern\",\"körperform\",\n",
    "         \"antriebsräder\",\"motorstandort\",\"radstand\", \"länge\",\"breite\",\"höhe\",\"leergewicht\",\"motortyp\",\n",
    "         \"anzahl-der-zylinder\", \"motorgröße\",\"kraftstoffsystem\",\"bohrung\",\"anschlag\",\"verdichtungsverhältnis\",\"pferdestärken\",\n",
    "         \"spitzendrehzahl\",\"stadt-mpg\",\"autobahn-mpg\",\"preis\"]\n",
    "\n",
    "raw_input_df = pd.read_csv('input/auto.csv', names = headers)\n",
    "display(raw_input_df.head(10))"
   ],
   "metadata": {
    "collapsed": false,
    "ExecuteTime": {
     "end_time": "2024-02-28T17:05:38.122361700Z",
     "start_time": "2024-02-28T17:05:38.020574900Z"
    }
   }
  },
  {
   "cell_type": "code",
   "execution_count": 35,
   "outputs": [],
   "source": [
    "csv_file_path = './bronze/'\n",
    "csv_file_name = 'auto_bronze.csv'\n",
    "\n",
    "if not os.path.exists(csv_file_path):\n",
    "    os.mkdir(csv_file_path)\n",
    "\n",
    "raw_input_df.to_csv(csv_file_path + csv_file_name, index=False)"
   ],
   "metadata": {
    "collapsed": false,
    "ExecuteTime": {
     "end_time": "2024-02-28T17:05:38.122361700Z",
     "start_time": "2024-02-28T17:05:38.046243600Z"
    }
   }
  },
  {
   "cell_type": "markdown",
   "source": [
    "## Silber Schicht\n",
    "\n",
    "Wie wir sehen können, sind mehrere Fragezeichen im Datenrahmen erschienen; das sind fehlende Werte, die unsere weitere Analyse behindern können.\n",
    "\n",
    "Wie können wir also all diese fehlenden Werte identifizieren und mit ihnen umgehen?\n",
    "Wie kann man mit fehlenden Daten arbeiten?\n",
    "\n",
    "Schritte für die Arbeit mit fehlenden Daten:\n",
    "\n",
    "Identifizieren fehlender Daten\n",
    "Umgang mit fehlenden Daten\n",
    "Korrektes Datenformat"
   ],
   "metadata": {
    "collapsed": false
   }
  },
  {
   "cell_type": "code",
   "execution_count": 36,
   "outputs": [],
   "source": [
    "bronze_df = pd.read_csv('bronze/auto_bronze.csv')\n",
    "\n",
    "# Umwandlung von \"?\" in NaN\n",
    "bronze_df.replace(\"?\", np.nan, inplace = True)"
   ],
   "metadata": {
    "collapsed": false,
    "ExecuteTime": {
     "end_time": "2024-02-28T17:05:38.124338600Z",
     "start_time": "2024-02-28T17:05:38.052800800Z"
    }
   }
  },
  {
   "cell_type": "code",
   "execution_count": 37,
   "outputs": [
    {
     "data": {
      "text/plain": "normalisierter-verlustwert    41\npreis                          4\nanschlag                       4\nbohrung                        4\nspitzendrehzahl                2\ntürnummern                     2\npferdestärken                  2\nmotortyp                       0\nautobahn-mpg                   0\nstadt-mpg                      0\nverdichtungsverhältnis         0\nkraftstoffsystem               0\nmotorgröße                     0\nanzahl-der-zylinder            0\nrisikoniveau                   0\nhöhe                           0\nbreite                         0\nlänge                          0\nradstand                       0\nmotorstandort                  0\nantriebsräder                  0\nkörperform                     0\nabsaugung                      0\nkraftstofftyp                  0\nmarke                          0\nleergewicht                    0\ndtype: int64"
     },
     "metadata": {},
     "output_type": "display_data"
    }
   ],
   "source": [
    "# Fehlende Werte in jeder Spalte zählen\n",
    "missing_data = bronze_df.isnull().sum()\n",
    "missing_data.sort_values(inplace=True, ascending=False)\n",
    "display(missing_data)"
   ],
   "metadata": {
    "collapsed": false,
    "ExecuteTime": {
     "end_time": "2024-02-28T17:05:38.126338900Z",
     "start_time": "2024-02-28T17:05:38.071672500Z"
    }
   }
  },
  {
   "cell_type": "markdown",
   "source": [
    "Wie geht man mit fehlenden Daten um?\n",
    "\n",
    "Daten löschen\n",
    "a. die gesamte Zeile löschen\n",
    "b. die gesamte Spalte löschen\n",
    "Daten ersetzen\n",
    "a. durch Mittelwert ersetzen\n",
    "b. Ersetzen durch Häufigkeit\n",
    "c. Ersetzen auf der Grundlage anderer Funktionen"
   ],
   "metadata": {
    "collapsed": false
   }
  },
  {
   "cell_type": "markdown",
   "source": [
    "Ersetzen durch Mittelwert:\n",
    "\n",
    "\"normalisierte-Verluste\": 41 fehlende Daten, durch Mittelwert ersetzen\n",
    "\"Schlaganfall\": 4 fehlende Daten, durch Mittelwert ersetzen\n",
    "\"Bohrung\": 4 fehlende Daten, ersetzen Sie diese durch den Mittelwert\n",
    "\"Pferdestärken\": 2 fehlende Daten, durch Mittelwert ersetzen\n",
    "\"Spitzen-Drehzahl\": 2 fehlende Daten, ersetze sie durch den Mittelwert\n",
    "\n",
    "Ersetzen durch Häufigkeit:\n",
    "\n",
    "\"Anzahl der Türen\": 2 fehlende Daten, ersetze sie durch \"vier\".\n",
    "Grund: 84% der Limousinen sind viertürig. Da vier Türen am häufigsten vorkommen, ist es am wahrscheinlichsten, dass sie vorkommen.\n",
    "\n",
    "Streiche die ganze Zeile:\n",
    "\n",
    "\"Preis\": 4 fehlende Daten, einfach die ganze Zeile löschen\n",
    "Grund: Der Preis ist das, was wir vorhersagen wollen. Jeder Dateneintrag ohne Preisdaten kann nicht für die Vorhersage verwendet werden; daher ist jede Zeile ohne Preisdaten für uns nicht nützlich"
   ],
   "metadata": {
    "collapsed": false
   }
  },
  {
   "cell_type": "code",
   "execution_count": 38,
   "outputs": [],
   "source": [
    "# Ersetzen durch Mittelwert\n",
    "avg_normalisierter_verlustwert = bronze_df['normalisierter-verlustwert'].astype(\"float\").mean(axis=0)\n",
    "bronze_df['normalisierter-verlustwert'].replace(np.nan, avg_normalisierter_verlustwert, inplace=True)\n",
    "\n",
    "avg_bohrung = bronze_df['bohrung'].astype('float').mean(axis=0)\n",
    "bronze_df['bohrung'].replace(np.nan, avg_bohrung, inplace=True)\n",
    "\n",
    "avg_anschlag = bronze_df[\"anschlag\"].astype(\"float\").mean(axis = 0)\n",
    "bronze_df[\"anschlag\"].replace(np.nan, avg_anschlag, inplace = True)\n",
    "\n",
    "avg_pferdestaerken = bronze_df['pferdestärken'].astype('float').mean(axis=0)\n",
    "bronze_df['pferdestärken'].replace(np.nan, avg_pferdestaerken, inplace=True)\n",
    "\n",
    "avg_spitzendrehzahl = bronze_df['spitzendrehzahl'].astype('float').mean(axis=0)\n",
    "bronze_df['spitzendrehzahl'].replace(np.nan, avg_spitzendrehzahl, inplace=True)"
   ],
   "metadata": {
    "collapsed": false,
    "ExecuteTime": {
     "end_time": "2024-02-28T17:05:38.126338900Z",
     "start_time": "2024-02-28T17:05:38.081685100Z"
    }
   }
  },
  {
   "cell_type": "code",
   "execution_count": 39,
   "outputs": [
    {
     "name": "stdout",
     "output_type": "stream",
     "text": [
      "four\n"
     ]
    }
   ],
   "source": [
    "# Ersetzen durch Häufigkeit:\n",
    "\n",
    "max_tuernummern = bronze_df['türnummern'].value_counts().idxmax()\n",
    "print(max_tuernummern)\n",
    "bronze_df['türnummern'].replace(np.nan, max_tuernummern, inplace=True)"
   ],
   "metadata": {
    "collapsed": false,
    "ExecuteTime": {
     "end_time": "2024-02-28T17:05:38.126338900Z",
     "start_time": "2024-02-28T17:05:38.095762500Z"
    }
   }
  },
  {
   "cell_type": "code",
   "execution_count": 40,
   "outputs": [],
   "source": [
    "# Streiche die ganze Zeile\n",
    "bronze_df.dropna(subset=['preis'], axis=0, inplace=True)\n",
    "bronze_df.reset_index(drop=True, inplace=True)"
   ],
   "metadata": {
    "collapsed": false,
    "ExecuteTime": {
     "end_time": "2024-02-28T17:05:38.145620800Z",
     "start_time": "2024-02-28T17:05:38.113365100Z"
    }
   }
  },
  {
   "cell_type": "markdown",
   "source": [
    "Correct data format"
   ],
   "metadata": {
    "collapsed": false
   }
  },
  {
   "cell_type": "code",
   "execution_count": 41,
   "outputs": [
    {
     "data": {
      "text/plain": "risikoniveau                    int64\nnormalisierter-verlustwert     object\nmarke                          object\nkraftstofftyp                  object\nabsaugung                      object\ntürnummern                     object\nkörperform                     object\nantriebsräder                  object\nmotorstandort                  object\nradstand                      float64\nlänge                         float64\nbreite                        float64\nhöhe                          float64\nleergewicht                     int64\nmotortyp                       object\nanzahl-der-zylinder            object\nmotorgröße                      int64\nkraftstoffsystem               object\nbohrung                        object\nanschlag                       object\nverdichtungsverhältnis        float64\npferdestärken                  object\nspitzendrehzahl                object\nstadt-mpg                       int64\nautobahn-mpg                    int64\npreis                          object\ndtype: object"
     },
     "metadata": {},
     "output_type": "display_data"
    }
   ],
   "source": [
    "display(bronze_df.dtypes)"
   ],
   "metadata": {
    "collapsed": false,
    "ExecuteTime": {
     "end_time": "2024-02-28T17:05:38.145620800Z",
     "start_time": "2024-02-28T17:05:38.127341900Z"
    }
   }
  },
  {
   "cell_type": "markdown",
   "source": [
    "Wie wir oben sehen können, haben einige Spalten nicht den richtigen Datentyp. Numerische Variablen sollten den Typ \"float\" oder \"int\" haben, und Variablen mit Zeichenketten wie Kategorien sollten den Typ \"object\" haben. Bei den Variablen \"Bohrung\" und \"Hub\" handelt es sich beispielsweise um numerische Werte, die die Motoren beschreiben, so dass man erwarten sollte, dass sie vom Typ \"float\" oder \"int\" sind; sie werden jedoch als Typ \"object\" angezeigt."
   ],
   "metadata": {
    "collapsed": false
   }
  },
  {
   "cell_type": "code",
   "execution_count": 44,
   "outputs": [],
   "source": [
    "bronze_df[['bohrung', 'anschlag']] = bronze_df[['bohrung', 'anschlag']].astype(\"float\")\n",
    "bronze_df[['normalisierter-verlustwert']] = bronze_df[['normalisierter-verlustwert']].astype(\"int64\")\n",
    "bronze_df[['preis']] = bronze_df[['preis']].astype(\"float\")\n",
    "bronze_df[['spitzendrehzahl']] = bronze_df[['spitzendrehzahl']].astype(\"float\")"
   ],
   "metadata": {
    "collapsed": false,
    "ExecuteTime": {
     "end_time": "2024-02-28T17:05:59.923277100Z",
     "start_time": "2024-02-28T17:05:59.916557Z"
    }
   }
  },
  {
   "cell_type": "code",
   "execution_count": 45,
   "outputs": [
    {
     "data": {
      "text/plain": "risikoniveau                    int64\nnormalisierter-verlustwert      int64\nmarke                          object\nkraftstofftyp                  object\nabsaugung                      object\ntürnummern                     object\nkörperform                     object\nantriebsräder                  object\nmotorstandort                  object\nradstand                      float64\nlänge                         float64\nbreite                        float64\nhöhe                          float64\nleergewicht                     int64\nmotortyp                       object\nanzahl-der-zylinder            object\nmotorgröße                      int64\nkraftstoffsystem               object\nbohrung                       float64\nanschlag                      float64\nverdichtungsverhältnis        float64\npferdestärken                  object\nspitzendrehzahl               float64\nstadt-mpg                       int64\nautobahn-mpg                    int64\npreis                         float64\ndtype: object"
     },
     "metadata": {},
     "output_type": "display_data"
    }
   ],
   "source": [
    "display(bronze_df.dtypes)"
   ],
   "metadata": {
    "collapsed": false,
    "ExecuteTime": {
     "end_time": "2024-02-28T17:06:01.157101Z",
     "start_time": "2024-02-28T17:06:01.151997900Z"
    }
   }
  },
  {
   "cell_type": "markdown",
   "source": [
    "TODO:\n",
    "\n",
    "Data Standardization\n",
    "Data Normalization\n",
    "Binning\n",
    "Indicator Variable (or Dummy Variable)"
   ],
   "metadata": {
    "collapsed": false
   }
  },
  {
   "cell_type": "code",
   "execution_count": 46,
   "outputs": [],
   "source": [
    "# export als Parquet"
   ],
   "metadata": {
    "collapsed": false,
    "ExecuteTime": {
     "end_time": "2024-02-28T17:09:27.674644Z",
     "start_time": "2024-02-28T17:09:27.669648500Z"
    }
   }
  },
  {
   "cell_type": "markdown",
   "source": [
    "## Gold Schicht"
   ],
   "metadata": {
    "collapsed": false
   }
  },
  {
   "cell_type": "code",
   "execution_count": null,
   "outputs": [],
   "source": [],
   "metadata": {
    "collapsed": false
   }
  }
 ],
 "metadata": {
  "kernelspec": {
   "display_name": "Python 3",
   "language": "python",
   "name": "python3"
  },
  "language_info": {
   "codemirror_mode": {
    "name": "ipython",
    "version": 2
   },
   "file_extension": ".py",
   "mimetype": "text/x-python",
   "name": "python",
   "nbconvert_exporter": "python",
   "pygments_lexer": "ipython2",
   "version": "2.7.6"
  }
 },
 "nbformat": 4,
 "nbformat_minor": 0
}
