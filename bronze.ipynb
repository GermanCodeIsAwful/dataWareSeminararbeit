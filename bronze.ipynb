{
 "cells": [
  {
   "cell_type": "code",
   "execution_count": 1,
   "outputs": [],
   "source": [
    "import pandas as pd\n",
    "import os"
   ],
   "metadata": {
    "collapsed": false,
    "ExecuteTime": {
     "end_time": "2024-02-29T15:03:40.817702900Z",
     "start_time": "2024-02-29T15:03:39.704222600Z"
    }
   },
   "id": "2249945900166958"
  },
  {
   "cell_type": "markdown",
   "source": [
    "## Bronze Schicht\n",
    "\n",
    "\"Automobile Data Set\" unter folgendem Link: https://archive.ics.uci.edu/ml/machine-learning-databases/autos/imports-85.data.\n",
    "\n",
    "Der Datensatz listet Fahrzeuge ab dem Jahr 1985 auf, der Inhalt ist in englischer Sprache.\n",
    "\n",
    "Die Daten zeigen die normalisierten Nutzungsschäden im Vergleich zu anderen Fahrzeugen. Die zweite Klassifizierung gibt an, inwieweit das Fahrzeug risikoreicher ist als sein Preis vermuten lässt. Den Fahrzeugen wird zunächst ein Risikofaktorsymbol zugeordnet, das mit ihrem Preis verknüpft ist. Wenn das Risiko höher (oder niedriger) ist, wird dieses Symbol angepasst, indem es auf der Skala nach oben (oder unten) verschoben wird. Versicherungsmathematiker bezeichnen diesen Vorgang als \"Symbolisierung\". Ein Wert von +3 bedeutet, dass das Auto riskant ist, während -3 bedeutet, dass es wahrscheinlich ziemlich sicher ist. Der dritte Faktor ist der relative durchschnittliche Schadenaufwand pro versichertem Fahrzeugjahr. Dieser Wert wird für alle Fahrzeuge einer bestimmten Größenklasse (zweitürige Kleinwagen, Kombis, Sportwagen usw.) normiert und stellt den durchschnittlichen Schaden pro Fahrzeug und Jahr dar.\n",
    "\n",
    "Spalten:\n",
    "\n",
    "- risikoniveau: -3, -2, -1, 0, 1, 2, 3\n",
    "- normalisierter-verlustwert: 65 - 256\n",
    "- marke: alfa-romero, audi, bmw, chevrolet, dodge, honda, isuzu, jaguar, mazda, mercedes-benz, mercury, mitsubishi, nissan, peugot, plymouth, porsche, renault, saab, subaru, toyota, volkswagen, volvo\n",
    "- kraftstofftyp: diesel, gas\n",
    "- absaugung: std, turbo\n",
    "- türnummern: four, two\n",
    "- körperform: hardtop, wagon, sedan, hatchback, convertible\n",
    "- antriebsräder: 4wd, fwd, rwd\n",
    "- motorstandort: front, rear\n",
    "- radstand: 86.6 - 120.9\n",
    "- länge: 141.1 - 208.1\n",
    "- breite: 60.3 - 72.3\n",
    "- höhe: 47.8 - 59.8\n",
    "- leergewicht: 1488 - 4066\n",
    "- motortyp: dohc, dohcv, l, ohc, ohcf, ohcv, rotor\n",
    "- anzahl-der-zylinder: eight, five, four, six, three, twelve, two\n",
    "- motorgröße: 61 - 326\n",
    "- kraftstoffsystem: 1bbl, 2bbl, 4bbl, idi, mfi, mpfi, spdi, spfi\n",
    "- bohrung: 2.54 - 3.94\n",
    "- anschlag: 2.07 - 4.17\n",
    "- verdichtungsverhältnis: 7 - 23\n",
    "- pferdestärken: 48 - 288\n",
    "- spitzendrehzahl: 4150 - 6600\n",
    "- stadt-mpg: 13 - 49\n",
    "- autobahn-mpg: 16 - 54\n",
    "- preis: 5118 - 45400"
   ],
   "metadata": {
    "collapsed": false
   },
   "id": "3f87dcde8c2d8e6e"
  },
  {
   "cell_type": "code",
   "execution_count": 2,
   "id": "initial_id",
   "metadata": {
    "collapsed": true,
    "ExecuteTime": {
     "end_time": "2024-02-29T15:03:40.862684900Z",
     "start_time": "2024-02-29T15:03:40.824483100Z"
    }
   },
   "outputs": [
    {
     "data": {
      "text/plain": "   risikoniveau normalisierter-verlustwert        marke kraftstofftyp  \\\n0             3                          ?  alfa-romero           gas   \n1             3                          ?  alfa-romero           gas   \n2             1                          ?  alfa-romero           gas   \n3             2                        164         audi           gas   \n4             2                        164         audi           gas   \n5             2                          ?         audi           gas   \n6             1                        158         audi           gas   \n7             1                          ?         audi           gas   \n8             1                        158         audi           gas   \n9             0                          ?         audi           gas   \n\n  absaugung türnummern   körperform antriebsräder motorstandort  radstand  \\\n0       std        two  convertible           rwd         front      88.6   \n1       std        two  convertible           rwd         front      88.6   \n2       std        two    hatchback           rwd         front      94.5   \n3       std       four        sedan           fwd         front      99.8   \n4       std       four        sedan           4wd         front      99.4   \n5       std        two        sedan           fwd         front      99.8   \n6       std       four        sedan           fwd         front     105.8   \n7       std       four        wagon           fwd         front     105.8   \n8     turbo       four        sedan           fwd         front     105.8   \n9     turbo        two    hatchback           4wd         front      99.5   \n\n   ...  motorgröße  kraftstoffsystem  bohrung  anschlag  \\\n0  ...         130              mpfi     3.47      2.68   \n1  ...         130              mpfi     3.47      2.68   \n2  ...         152              mpfi     2.68      3.47   \n3  ...         109              mpfi     3.19      3.40   \n4  ...         136              mpfi     3.19      3.40   \n5  ...         136              mpfi     3.19      3.40   \n6  ...         136              mpfi     3.19      3.40   \n7  ...         136              mpfi     3.19      3.40   \n8  ...         131              mpfi     3.13      3.40   \n9  ...         131              mpfi     3.13      3.40   \n\n  verdichtungsverhältnis pferdestärken  spitzendrehzahl stadt-mpg  \\\n0                    9.0           111             5000        21   \n1                    9.0           111             5000        21   \n2                    9.0           154             5000        19   \n3                   10.0           102             5500        24   \n4                    8.0           115             5500        18   \n5                    8.5           110             5500        19   \n6                    8.5           110             5500        19   \n7                    8.5           110             5500        19   \n8                    8.3           140             5500        17   \n9                    7.0           160             5500        16   \n\n  autobahn-mpg  preis  \n0           27  13495  \n1           27  16500  \n2           26  16500  \n3           30  13950  \n4           22  17450  \n5           25  15250  \n6           25  17710  \n7           25  18920  \n8           20  23875  \n9           22      ?  \n\n[10 rows x 26 columns]",
      "text/html": "<div>\n<style scoped>\n    .dataframe tbody tr th:only-of-type {\n        vertical-align: middle;\n    }\n\n    .dataframe tbody tr th {\n        vertical-align: top;\n    }\n\n    .dataframe thead th {\n        text-align: right;\n    }\n</style>\n<table border=\"1\" class=\"dataframe\">\n  <thead>\n    <tr style=\"text-align: right;\">\n      <th></th>\n      <th>risikoniveau</th>\n      <th>normalisierter-verlustwert</th>\n      <th>marke</th>\n      <th>kraftstofftyp</th>\n      <th>absaugung</th>\n      <th>türnummern</th>\n      <th>körperform</th>\n      <th>antriebsräder</th>\n      <th>motorstandort</th>\n      <th>radstand</th>\n      <th>...</th>\n      <th>motorgröße</th>\n      <th>kraftstoffsystem</th>\n      <th>bohrung</th>\n      <th>anschlag</th>\n      <th>verdichtungsverhältnis</th>\n      <th>pferdestärken</th>\n      <th>spitzendrehzahl</th>\n      <th>stadt-mpg</th>\n      <th>autobahn-mpg</th>\n      <th>preis</th>\n    </tr>\n  </thead>\n  <tbody>\n    <tr>\n      <th>0</th>\n      <td>3</td>\n      <td>?</td>\n      <td>alfa-romero</td>\n      <td>gas</td>\n      <td>std</td>\n      <td>two</td>\n      <td>convertible</td>\n      <td>rwd</td>\n      <td>front</td>\n      <td>88.6</td>\n      <td>...</td>\n      <td>130</td>\n      <td>mpfi</td>\n      <td>3.47</td>\n      <td>2.68</td>\n      <td>9.0</td>\n      <td>111</td>\n      <td>5000</td>\n      <td>21</td>\n      <td>27</td>\n      <td>13495</td>\n    </tr>\n    <tr>\n      <th>1</th>\n      <td>3</td>\n      <td>?</td>\n      <td>alfa-romero</td>\n      <td>gas</td>\n      <td>std</td>\n      <td>two</td>\n      <td>convertible</td>\n      <td>rwd</td>\n      <td>front</td>\n      <td>88.6</td>\n      <td>...</td>\n      <td>130</td>\n      <td>mpfi</td>\n      <td>3.47</td>\n      <td>2.68</td>\n      <td>9.0</td>\n      <td>111</td>\n      <td>5000</td>\n      <td>21</td>\n      <td>27</td>\n      <td>16500</td>\n    </tr>\n    <tr>\n      <th>2</th>\n      <td>1</td>\n      <td>?</td>\n      <td>alfa-romero</td>\n      <td>gas</td>\n      <td>std</td>\n      <td>two</td>\n      <td>hatchback</td>\n      <td>rwd</td>\n      <td>front</td>\n      <td>94.5</td>\n      <td>...</td>\n      <td>152</td>\n      <td>mpfi</td>\n      <td>2.68</td>\n      <td>3.47</td>\n      <td>9.0</td>\n      <td>154</td>\n      <td>5000</td>\n      <td>19</td>\n      <td>26</td>\n      <td>16500</td>\n    </tr>\n    <tr>\n      <th>3</th>\n      <td>2</td>\n      <td>164</td>\n      <td>audi</td>\n      <td>gas</td>\n      <td>std</td>\n      <td>four</td>\n      <td>sedan</td>\n      <td>fwd</td>\n      <td>front</td>\n      <td>99.8</td>\n      <td>...</td>\n      <td>109</td>\n      <td>mpfi</td>\n      <td>3.19</td>\n      <td>3.40</td>\n      <td>10.0</td>\n      <td>102</td>\n      <td>5500</td>\n      <td>24</td>\n      <td>30</td>\n      <td>13950</td>\n    </tr>\n    <tr>\n      <th>4</th>\n      <td>2</td>\n      <td>164</td>\n      <td>audi</td>\n      <td>gas</td>\n      <td>std</td>\n      <td>four</td>\n      <td>sedan</td>\n      <td>4wd</td>\n      <td>front</td>\n      <td>99.4</td>\n      <td>...</td>\n      <td>136</td>\n      <td>mpfi</td>\n      <td>3.19</td>\n      <td>3.40</td>\n      <td>8.0</td>\n      <td>115</td>\n      <td>5500</td>\n      <td>18</td>\n      <td>22</td>\n      <td>17450</td>\n    </tr>\n    <tr>\n      <th>5</th>\n      <td>2</td>\n      <td>?</td>\n      <td>audi</td>\n      <td>gas</td>\n      <td>std</td>\n      <td>two</td>\n      <td>sedan</td>\n      <td>fwd</td>\n      <td>front</td>\n      <td>99.8</td>\n      <td>...</td>\n      <td>136</td>\n      <td>mpfi</td>\n      <td>3.19</td>\n      <td>3.40</td>\n      <td>8.5</td>\n      <td>110</td>\n      <td>5500</td>\n      <td>19</td>\n      <td>25</td>\n      <td>15250</td>\n    </tr>\n    <tr>\n      <th>6</th>\n      <td>1</td>\n      <td>158</td>\n      <td>audi</td>\n      <td>gas</td>\n      <td>std</td>\n      <td>four</td>\n      <td>sedan</td>\n      <td>fwd</td>\n      <td>front</td>\n      <td>105.8</td>\n      <td>...</td>\n      <td>136</td>\n      <td>mpfi</td>\n      <td>3.19</td>\n      <td>3.40</td>\n      <td>8.5</td>\n      <td>110</td>\n      <td>5500</td>\n      <td>19</td>\n      <td>25</td>\n      <td>17710</td>\n    </tr>\n    <tr>\n      <th>7</th>\n      <td>1</td>\n      <td>?</td>\n      <td>audi</td>\n      <td>gas</td>\n      <td>std</td>\n      <td>four</td>\n      <td>wagon</td>\n      <td>fwd</td>\n      <td>front</td>\n      <td>105.8</td>\n      <td>...</td>\n      <td>136</td>\n      <td>mpfi</td>\n      <td>3.19</td>\n      <td>3.40</td>\n      <td>8.5</td>\n      <td>110</td>\n      <td>5500</td>\n      <td>19</td>\n      <td>25</td>\n      <td>18920</td>\n    </tr>\n    <tr>\n      <th>8</th>\n      <td>1</td>\n      <td>158</td>\n      <td>audi</td>\n      <td>gas</td>\n      <td>turbo</td>\n      <td>four</td>\n      <td>sedan</td>\n      <td>fwd</td>\n      <td>front</td>\n      <td>105.8</td>\n      <td>...</td>\n      <td>131</td>\n      <td>mpfi</td>\n      <td>3.13</td>\n      <td>3.40</td>\n      <td>8.3</td>\n      <td>140</td>\n      <td>5500</td>\n      <td>17</td>\n      <td>20</td>\n      <td>23875</td>\n    </tr>\n    <tr>\n      <th>9</th>\n      <td>0</td>\n      <td>?</td>\n      <td>audi</td>\n      <td>gas</td>\n      <td>turbo</td>\n      <td>two</td>\n      <td>hatchback</td>\n      <td>4wd</td>\n      <td>front</td>\n      <td>99.5</td>\n      <td>...</td>\n      <td>131</td>\n      <td>mpfi</td>\n      <td>3.13</td>\n      <td>3.40</td>\n      <td>7.0</td>\n      <td>160</td>\n      <td>5500</td>\n      <td>16</td>\n      <td>22</td>\n      <td>?</td>\n    </tr>\n  </tbody>\n</table>\n<p>10 rows × 26 columns</p>\n</div>"
     },
     "metadata": {},
     "output_type": "display_data"
    }
   ],
   "source": [
    "headers = [\"risikoniveau\",\"normalisierter-verlustwert\",\"marke\",\"kraftstofftyp\",\"absaugung\", \"türnummern\",\"körperform\",\n",
    "         \"antriebsräder\",\"motorstandort\",\"radstand\", \"länge\",\"breite\",\"höhe\",\"leergewicht\",\"motortyp\",\n",
    "         \"anzahl-der-zylinder\", \"motorgröße\",\"kraftstoffsystem\",\"bohrung\",\"anschlag\",\"verdichtungsverhältnis\",\"pferdestärken\", \"spitzendrehzahl\",\"stadt-mpg\",\"autobahn-mpg\",\"preis\"]\n",
    "\n",
    "raw_input_df = pd.read_csv('input/auto.csv', names = headers)\n",
    "display(raw_input_df.head(10))"
   ]
  },
  {
   "cell_type": "code",
   "execution_count": 3,
   "outputs": [],
   "source": [
    "csv_file_path = os.path.join('.', 'bronze')\n",
    "csv_file_name = 'auto_bronze.csv'\n",
    "\n",
    "if not os.path.exists(csv_file_path):\n",
    "    os.mkdir(csv_file_path)\n",
    "\n",
    "raw_input_df.to_csv(os.path.join(csv_file_path, csv_file_name), index=False)"
   ],
   "metadata": {
    "collapsed": false,
    "ExecuteTime": {
     "end_time": "2024-02-29T15:03:40.875808500Z",
     "start_time": "2024-02-29T15:03:40.864198300Z"
    }
   },
   "id": "702ad43c733667ec"
  }
 ],
 "metadata": {
  "kernelspec": {
   "display_name": "Python 3",
   "language": "python",
   "name": "python3"
  },
  "language_info": {
   "codemirror_mode": {
    "name": "ipython",
    "version": 2
   },
   "file_extension": ".py",
   "mimetype": "text/x-python",
   "name": "python",
   "nbconvert_exporter": "python",
   "pygments_lexer": "ipython2",
   "version": "2.7.6"
  }
 },
 "nbformat": 4,
 "nbformat_minor": 5
}
