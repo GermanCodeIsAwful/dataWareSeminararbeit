{
 "cells": [
  {
   "cell_type": "code",
   "execution_count": 146,
   "metadata": {
    "collapsed": true,
    "ExecuteTime": {
     "end_time": "2024-02-29T13:18:30.639622200Z",
     "start_time": "2024-02-29T13:18:30.509543500Z"
    }
   },
   "outputs": [],
   "source": [
    "import pandas as pd\n",
    "import numpy as np\n",
    "import matplotlib.pyplot as plt\n",
    "import os"
   ]
  },
  {
   "cell_type": "markdown",
   "source": [
    "\"Automobile Data Set\" from the following link: https://archive.ics.uci.edu/ml/machine-learning-databases/autos/imports-85.data.\n",
    "\n",
    "its normalized losses in use as compared to other cars. The second rating corresponds to the degree to which the auto is more risky than its price indicates. Cars are initially assigned a risk factor symbol associated with its price. Then, if it is more risky (or less), this symbol is adjusted by moving it up (or down) the scale. Actuarians call this process \"symboling\". A value of +3 indicates that the auto is risky, -3 that it is probably pretty safe. The third factor is the relative average loss payment per insured vehicle year. This value is normalized for all autos within a particular size classification (two-door small, station wagons, sports/specialty, etc…), and represents the average loss per car per year.\n",
    "\n",
    "- symboling: -3, -2, -1, 0, 1, 2, 3\n",
    "- normalized-losses: continuous from 65 to 256\n",
    "- make: alfa-romero, audi, bmw, chevrolet, dodge, honda, isuzu, jaguar, mazda, mercedes-benz, mercury, mitsubishi, nissan, peugot, plymouth, porsche, renault, saab, subaru, toyota, volkswagen, volvo\n",
    "- fuel-type: diesel, gas\n",
    "- aspiration: std, turbo\n",
    "- num-of-doors: four, two\n",
    "- body-style: hardtop, wagon, sedan, hatchback, convertible\n",
    "- drive-wheels: 4wd, fwd, rwd\n",
    "- engine-location: front, rear\n",
    "- wheel-base: continuous from 86.6 120.9\n",
    "- length: continuous from 141.1 to 208.1\n",
    "- width: continuous from 60.3 to 72.3\n",
    "- height: continuous from 47.8 to 59.8\n",
    "- curb-weight: continuous from 1488 to 4066\n",
    "- engine-type: dohc, dohcv, l, ohc, ohcf, ohcv, rotor\n",
    "- num-of-cylinders: eight, five, four, six, three, twelve, two\n",
    "- engine-size: continuous from 61 to 326\n",
    "- fuel-system: 1bbl, 2bbl, 4bbl, idi, mfi, mpfi, spdi, spfi\n",
    "- bore: continuous from 2.54 to 3.94\n",
    "- stroke: continuous from 2.07 to 4.17\n",
    "- compression-ratio: continuous from 7 to 23\n",
    "- horsepower: continuous from 48 to 288\n",
    "- peak-rpm: continuous from 4150 to 6600\n",
    "- city-mpg: continuous from 13 to 49\n",
    "- highway-mpg: continuous from 16 to 54\n",
    "- price: continuous from 5118 to 45400."
   ],
   "metadata": {
    "collapsed": false
   }
  },
  {
   "cell_type": "markdown",
   "source": [
    "## Bronze Schicht"
   ],
   "metadata": {
    "collapsed": false
   }
  },
  {
   "cell_type": "code",
   "execution_count": 147,
   "outputs": [
    {
     "data": {
      "text/plain": "   risikoniveau normalisierter-verlustwert        marke kraftstofftyp  \\\n0             3                          ?  alfa-romero           gas   \n1             3                          ?  alfa-romero           gas   \n2             1                          ?  alfa-romero           gas   \n3             2                        164         audi           gas   \n4             2                        164         audi           gas   \n5             2                          ?         audi           gas   \n6             1                        158         audi           gas   \n7             1                          ?         audi           gas   \n8             1                        158         audi           gas   \n9             0                          ?         audi           gas   \n\n  absaugung türnummern   körperform antriebsräder motorstandort  radstand  \\\n0       std        two  convertible           rwd         front      88.6   \n1       std        two  convertible           rwd         front      88.6   \n2       std        two    hatchback           rwd         front      94.5   \n3       std       four        sedan           fwd         front      99.8   \n4       std       four        sedan           4wd         front      99.4   \n5       std        two        sedan           fwd         front      99.8   \n6       std       four        sedan           fwd         front     105.8   \n7       std       four        wagon           fwd         front     105.8   \n8     turbo       four        sedan           fwd         front     105.8   \n9     turbo        two    hatchback           4wd         front      99.5   \n\n   ...  motorgröße  kraftstoffsystem  bohrung  anschlag  \\\n0  ...         130              mpfi     3.47      2.68   \n1  ...         130              mpfi     3.47      2.68   \n2  ...         152              mpfi     2.68      3.47   \n3  ...         109              mpfi     3.19      3.40   \n4  ...         136              mpfi     3.19      3.40   \n5  ...         136              mpfi     3.19      3.40   \n6  ...         136              mpfi     3.19      3.40   \n7  ...         136              mpfi     3.19      3.40   \n8  ...         131              mpfi     3.13      3.40   \n9  ...         131              mpfi     3.13      3.40   \n\n  verdichtungsverhältnis pferdestärken  spitzendrehzahl stadt-mpg  \\\n0                    9.0           111             5000        21   \n1                    9.0           111             5000        21   \n2                    9.0           154             5000        19   \n3                   10.0           102             5500        24   \n4                    8.0           115             5500        18   \n5                    8.5           110             5500        19   \n6                    8.5           110             5500        19   \n7                    8.5           110             5500        19   \n8                    8.3           140             5500        17   \n9                    7.0           160             5500        16   \n\n  autobahn-mpg  preis  \n0           27  13495  \n1           27  16500  \n2           26  16500  \n3           30  13950  \n4           22  17450  \n5           25  15250  \n6           25  17710  \n7           25  18920  \n8           20  23875  \n9           22      ?  \n\n[10 rows x 26 columns]",
      "text/html": "<div>\n<style scoped>\n    .dataframe tbody tr th:only-of-type {\n        vertical-align: middle;\n    }\n\n    .dataframe tbody tr th {\n        vertical-align: top;\n    }\n\n    .dataframe thead th {\n        text-align: right;\n    }\n</style>\n<table border=\"1\" class=\"dataframe\">\n  <thead>\n    <tr style=\"text-align: right;\">\n      <th></th>\n      <th>risikoniveau</th>\n      <th>normalisierter-verlustwert</th>\n      <th>marke</th>\n      <th>kraftstofftyp</th>\n      <th>absaugung</th>\n      <th>türnummern</th>\n      <th>körperform</th>\n      <th>antriebsräder</th>\n      <th>motorstandort</th>\n      <th>radstand</th>\n      <th>...</th>\n      <th>motorgröße</th>\n      <th>kraftstoffsystem</th>\n      <th>bohrung</th>\n      <th>anschlag</th>\n      <th>verdichtungsverhältnis</th>\n      <th>pferdestärken</th>\n      <th>spitzendrehzahl</th>\n      <th>stadt-mpg</th>\n      <th>autobahn-mpg</th>\n      <th>preis</th>\n    </tr>\n  </thead>\n  <tbody>\n    <tr>\n      <th>0</th>\n      <td>3</td>\n      <td>?</td>\n      <td>alfa-romero</td>\n      <td>gas</td>\n      <td>std</td>\n      <td>two</td>\n      <td>convertible</td>\n      <td>rwd</td>\n      <td>front</td>\n      <td>88.6</td>\n      <td>...</td>\n      <td>130</td>\n      <td>mpfi</td>\n      <td>3.47</td>\n      <td>2.68</td>\n      <td>9.0</td>\n      <td>111</td>\n      <td>5000</td>\n      <td>21</td>\n      <td>27</td>\n      <td>13495</td>\n    </tr>\n    <tr>\n      <th>1</th>\n      <td>3</td>\n      <td>?</td>\n      <td>alfa-romero</td>\n      <td>gas</td>\n      <td>std</td>\n      <td>two</td>\n      <td>convertible</td>\n      <td>rwd</td>\n      <td>front</td>\n      <td>88.6</td>\n      <td>...</td>\n      <td>130</td>\n      <td>mpfi</td>\n      <td>3.47</td>\n      <td>2.68</td>\n      <td>9.0</td>\n      <td>111</td>\n      <td>5000</td>\n      <td>21</td>\n      <td>27</td>\n      <td>16500</td>\n    </tr>\n    <tr>\n      <th>2</th>\n      <td>1</td>\n      <td>?</td>\n      <td>alfa-romero</td>\n      <td>gas</td>\n      <td>std</td>\n      <td>two</td>\n      <td>hatchback</td>\n      <td>rwd</td>\n      <td>front</td>\n      <td>94.5</td>\n      <td>...</td>\n      <td>152</td>\n      <td>mpfi</td>\n      <td>2.68</td>\n      <td>3.47</td>\n      <td>9.0</td>\n      <td>154</td>\n      <td>5000</td>\n      <td>19</td>\n      <td>26</td>\n      <td>16500</td>\n    </tr>\n    <tr>\n      <th>3</th>\n      <td>2</td>\n      <td>164</td>\n      <td>audi</td>\n      <td>gas</td>\n      <td>std</td>\n      <td>four</td>\n      <td>sedan</td>\n      <td>fwd</td>\n      <td>front</td>\n      <td>99.8</td>\n      <td>...</td>\n      <td>109</td>\n      <td>mpfi</td>\n      <td>3.19</td>\n      <td>3.40</td>\n      <td>10.0</td>\n      <td>102</td>\n      <td>5500</td>\n      <td>24</td>\n      <td>30</td>\n      <td>13950</td>\n    </tr>\n    <tr>\n      <th>4</th>\n      <td>2</td>\n      <td>164</td>\n      <td>audi</td>\n      <td>gas</td>\n      <td>std</td>\n      <td>four</td>\n      <td>sedan</td>\n      <td>4wd</td>\n      <td>front</td>\n      <td>99.4</td>\n      <td>...</td>\n      <td>136</td>\n      <td>mpfi</td>\n      <td>3.19</td>\n      <td>3.40</td>\n      <td>8.0</td>\n      <td>115</td>\n      <td>5500</td>\n      <td>18</td>\n      <td>22</td>\n      <td>17450</td>\n    </tr>\n    <tr>\n      <th>5</th>\n      <td>2</td>\n      <td>?</td>\n      <td>audi</td>\n      <td>gas</td>\n      <td>std</td>\n      <td>two</td>\n      <td>sedan</td>\n      <td>fwd</td>\n      <td>front</td>\n      <td>99.8</td>\n      <td>...</td>\n      <td>136</td>\n      <td>mpfi</td>\n      <td>3.19</td>\n      <td>3.40</td>\n      <td>8.5</td>\n      <td>110</td>\n      <td>5500</td>\n      <td>19</td>\n      <td>25</td>\n      <td>15250</td>\n    </tr>\n    <tr>\n      <th>6</th>\n      <td>1</td>\n      <td>158</td>\n      <td>audi</td>\n      <td>gas</td>\n      <td>std</td>\n      <td>four</td>\n      <td>sedan</td>\n      <td>fwd</td>\n      <td>front</td>\n      <td>105.8</td>\n      <td>...</td>\n      <td>136</td>\n      <td>mpfi</td>\n      <td>3.19</td>\n      <td>3.40</td>\n      <td>8.5</td>\n      <td>110</td>\n      <td>5500</td>\n      <td>19</td>\n      <td>25</td>\n      <td>17710</td>\n    </tr>\n    <tr>\n      <th>7</th>\n      <td>1</td>\n      <td>?</td>\n      <td>audi</td>\n      <td>gas</td>\n      <td>std</td>\n      <td>four</td>\n      <td>wagon</td>\n      <td>fwd</td>\n      <td>front</td>\n      <td>105.8</td>\n      <td>...</td>\n      <td>136</td>\n      <td>mpfi</td>\n      <td>3.19</td>\n      <td>3.40</td>\n      <td>8.5</td>\n      <td>110</td>\n      <td>5500</td>\n      <td>19</td>\n      <td>25</td>\n      <td>18920</td>\n    </tr>\n    <tr>\n      <th>8</th>\n      <td>1</td>\n      <td>158</td>\n      <td>audi</td>\n      <td>gas</td>\n      <td>turbo</td>\n      <td>four</td>\n      <td>sedan</td>\n      <td>fwd</td>\n      <td>front</td>\n      <td>105.8</td>\n      <td>...</td>\n      <td>131</td>\n      <td>mpfi</td>\n      <td>3.13</td>\n      <td>3.40</td>\n      <td>8.3</td>\n      <td>140</td>\n      <td>5500</td>\n      <td>17</td>\n      <td>20</td>\n      <td>23875</td>\n    </tr>\n    <tr>\n      <th>9</th>\n      <td>0</td>\n      <td>?</td>\n      <td>audi</td>\n      <td>gas</td>\n      <td>turbo</td>\n      <td>two</td>\n      <td>hatchback</td>\n      <td>4wd</td>\n      <td>front</td>\n      <td>99.5</td>\n      <td>...</td>\n      <td>131</td>\n      <td>mpfi</td>\n      <td>3.13</td>\n      <td>3.40</td>\n      <td>7.0</td>\n      <td>160</td>\n      <td>5500</td>\n      <td>16</td>\n      <td>22</td>\n      <td>?</td>\n    </tr>\n  </tbody>\n</table>\n<p>10 rows × 26 columns</p>\n</div>"
     },
     "metadata": {},
     "output_type": "display_data"
    }
   ],
   "source": [
    "headers = [\"risikoniveau\",\"normalisierter-verlustwert\",\"marke\",\"kraftstofftyp\",\"absaugung\", \"türnummern\",\"körperform\",\n",
    "         \"antriebsräder\",\"motorstandort\",\"radstand\", \"länge\",\"breite\",\"höhe\",\"leergewicht\",\"motortyp\",\n",
    "         \"anzahl-der-zylinder\", \"motorgröße\",\"kraftstoffsystem\",\"bohrung\",\"anschlag\",\"verdichtungsverhältnis\",\"pferdestärken\",\n",
    "         \"spitzendrehzahl\",\"stadt-mpg\",\"autobahn-mpg\",\"preis\"]\n",
    "\n",
    "raw_input_df = pd.read_csv('input/auto.csv', names = headers)\n",
    "display(raw_input_df.head(10))"
   ],
   "metadata": {
    "collapsed": false,
    "ExecuteTime": {
     "end_time": "2024-02-29T13:18:30.816199600Z",
     "start_time": "2024-02-29T13:18:30.523430800Z"
    }
   }
  },
  {
   "cell_type": "code",
   "execution_count": 148,
   "outputs": [],
   "source": [
    "csv_file_path = os.path.join('.', 'bronze')\n",
    "csv_file_name = 'auto_bronze.csv'\n",
    "\n",
    "if not os.path.exists(csv_file_path):\n",
    "    os.mkdir(csv_file_path)\n",
    "\n",
    "raw_input_df.to_csv(os.path.join(csv_file_path, csv_file_name), index=False)"
   ],
   "metadata": {
    "collapsed": false,
    "ExecuteTime": {
     "end_time": "2024-02-29T13:18:30.837537700Z",
     "start_time": "2024-02-29T13:18:30.548343900Z"
    }
   }
  },
  {
   "cell_type": "markdown",
   "source": [
    "## Silber Schicht\n",
    "\n",
    "Wie wir sehen können, sind mehrere Fragezeichen im Datenrahmen erschienen; das sind fehlende Werte, die unsere weitere Analyse behindern können.\n",
    "\n",
    "Wie können wir also all diese fehlenden Werte identifizieren und mit ihnen umgehen?\n",
    "Wie kann man mit fehlenden Daten arbeiten?\n",
    "\n",
    "Schritte für die Arbeit mit fehlenden Daten:\n",
    "\n",
    "Identifizieren fehlender Daten\n",
    "Umgang mit fehlenden Daten\n",
    "Korrektes Datenformat"
   ],
   "metadata": {
    "collapsed": false
   }
  },
  {
   "cell_type": "code",
   "execution_count": 149,
   "outputs": [],
   "source": [
    "bronze_df = pd.read_csv('bronze/auto_bronze.csv')\n",
    "\n",
    "# Umwandlung von \"?\" in NaN\n",
    "bronze_df.replace(\"?\", np.nan, inplace = True)"
   ],
   "metadata": {
    "collapsed": false,
    "ExecuteTime": {
     "end_time": "2024-02-29T13:18:30.841536500Z",
     "start_time": "2024-02-29T13:18:30.558967Z"
    }
   }
  },
  {
   "cell_type": "code",
   "execution_count": 150,
   "outputs": [
    {
     "data": {
      "text/plain": "normalisierter-verlustwert    41\npreis                          4\nanschlag                       4\nbohrung                        4\nspitzendrehzahl                2\ntürnummern                     2\npferdestärken                  2\nmotortyp                       0\nautobahn-mpg                   0\nstadt-mpg                      0\nverdichtungsverhältnis         0\nkraftstoffsystem               0\nmotorgröße                     0\nanzahl-der-zylinder            0\nrisikoniveau                   0\nhöhe                           0\nbreite                         0\nlänge                          0\nradstand                       0\nmotorstandort                  0\nantriebsräder                  0\nkörperform                     0\nabsaugung                      0\nkraftstofftyp                  0\nmarke                          0\nleergewicht                    0\ndtype: int64"
     },
     "metadata": {},
     "output_type": "display_data"
    }
   ],
   "source": [
    "# Fehlende Werte in jeder Spalte zählen\n",
    "missing_data = bronze_df.isnull().sum()\n",
    "missing_data.sort_values(inplace=True, ascending=False)\n",
    "display(missing_data)"
   ],
   "metadata": {
    "collapsed": false,
    "ExecuteTime": {
     "end_time": "2024-02-29T13:18:30.859229900Z",
     "start_time": "2024-02-29T13:18:30.575843700Z"
    }
   }
  },
  {
   "cell_type": "markdown",
   "source": [
    "Wie geht man mit fehlenden Daten um?\n",
    "\n",
    "Daten löschen\n",
    "a. die gesamte Zeile löschen\n",
    "b. die gesamte Spalte löschen\n",
    "Daten ersetzen\n",
    "a. durch Mittelwert ersetzen\n",
    "b. Ersetzen durch Häufigkeit\n",
    "c. Ersetzen auf der Grundlage anderer Funktionen"
   ],
   "metadata": {
    "collapsed": false
   }
  },
  {
   "cell_type": "markdown",
   "source": [
    "Ersetzen durch Mittelwert:\n",
    "\n",
    "\"normalisierte-Verluste\": 41 fehlende Daten, durch Mittelwert ersetzen\n",
    "\"Schlaganfall\": 4 fehlende Daten, durch Mittelwert ersetzen\n",
    "\"Bohrung\": 4 fehlende Daten, ersetzen Sie diese durch den Mittelwert\n",
    "\"Pferdestärken\": 2 fehlende Daten, durch Mittelwert ersetzen\n",
    "\"Spitzen-Drehzahl\": 2 fehlende Daten, ersetze sie durch den Mittelwert\n",
    "\n",
    "Ersetzen durch Häufigkeit:\n",
    "\n",
    "\"Anzahl der Türen\": 2 fehlende Daten, ersetze sie durch \"vier\".\n",
    "Grund: 84% der Limousinen sind viertürig. Da vier Türen am häufigsten vorkommen, ist es am wahrscheinlichsten, dass sie vorkommen.\n",
    "\n",
    "Streiche die ganze Zeile:\n",
    "\n",
    "\"Preis\": 4 fehlende Daten, einfach die ganze Zeile löschen\n",
    "Grund: Der Preis ist das, was wir vorhersagen wollen. Jeder Dateneintrag ohne Preisdaten kann nicht für die Vorhersage verwendet werden; daher ist jede Zeile ohne Preisdaten für uns nicht nützlich"
   ],
   "metadata": {
    "collapsed": false
   }
  },
  {
   "cell_type": "code",
   "execution_count": 151,
   "outputs": [],
   "source": [
    "# Ersetzen durch Mittelwert\n",
    "avg_normalisierter_verlustwert = bronze_df['normalisierter-verlustwert'].astype(\"float\").mean(axis=0)\n",
    "bronze_df.fillna({'normalisierter-verlustwert': avg_normalisierter_verlustwert}, inplace=True)\n",
    "\n",
    "avg_bohrung = bronze_df['bohrung'].astype('float').mean(axis=0)\n",
    "bronze_df.fillna({'bohrung': avg_bohrung}, inplace=True)\n",
    "\n",
    "avg_anschlag = bronze_df[\"anschlag\"].astype(\"float\").mean(axis = 0)\n",
    "bronze_df.fillna({'anschlag': avg_anschlag}, inplace=True)\n",
    "\n",
    "avg_pferdestaerken = bronze_df['pferdestärken'].astype('float').mean(axis=0)\n",
    "bronze_df.fillna({'pferdestärken': avg_pferdestaerken}, inplace=True)\n",
    "\n",
    "avg_spitzendrehzahl = bronze_df['spitzendrehzahl'].astype('float').mean(axis=0)\n",
    "bronze_df.fillna({'spitzendrehzahl': avg_spitzendrehzahl}, inplace=True)"
   ],
   "metadata": {
    "collapsed": false,
    "ExecuteTime": {
     "end_time": "2024-02-29T13:18:30.868112200Z",
     "start_time": "2024-02-29T13:18:30.592616700Z"
    }
   }
  },
  {
   "cell_type": "code",
   "execution_count": 152,
   "outputs": [
    {
     "name": "stdout",
     "output_type": "stream",
     "text": [
      "four\n"
     ]
    }
   ],
   "source": [
    "# Ersetzen durch Häufigkeit:\n",
    "\n",
    "max_tuernummern = bronze_df['türnummern'].value_counts().idxmax()\n",
    "print(max_tuernummern)\n",
    "bronze_df['türnummern'].replace(np.nan, max_tuernummern, inplace=True)"
   ],
   "metadata": {
    "collapsed": false,
    "ExecuteTime": {
     "end_time": "2024-02-29T13:18:30.870123Z",
     "start_time": "2024-02-29T13:18:30.599959900Z"
    }
   }
  },
  {
   "cell_type": "code",
   "execution_count": 153,
   "outputs": [],
   "source": [
    "# Streiche die ganze Zeile\n",
    "bronze_df.dropna(subset=['preis'], axis=0, inplace=True)\n",
    "bronze_df.reset_index(drop=True, inplace=True)"
   ],
   "metadata": {
    "collapsed": false,
    "ExecuteTime": {
     "end_time": "2024-02-29T13:18:30.872122500Z",
     "start_time": "2024-02-29T13:18:30.607590700Z"
    }
   }
  },
  {
   "cell_type": "markdown",
   "source": [
    "Correct data format"
   ],
   "metadata": {
    "collapsed": false
   }
  },
  {
   "cell_type": "code",
   "execution_count": 154,
   "outputs": [
    {
     "data": {
      "text/plain": "risikoniveau                    int64\nnormalisierter-verlustwert     object\nmarke                          object\nkraftstofftyp                  object\nabsaugung                      object\ntürnummern                     object\nkörperform                     object\nantriebsräder                  object\nmotorstandort                  object\nradstand                      float64\nlänge                         float64\nbreite                        float64\nhöhe                          float64\nleergewicht                     int64\nmotortyp                       object\nanzahl-der-zylinder            object\nmotorgröße                      int64\nkraftstoffsystem               object\nbohrung                        object\nanschlag                       object\nverdichtungsverhältnis        float64\npferdestärken                  object\nspitzendrehzahl                object\nstadt-mpg                       int64\nautobahn-mpg                    int64\npreis                          object\ndtype: object"
     },
     "metadata": {},
     "output_type": "display_data"
    }
   ],
   "source": [
    "display(bronze_df.dtypes)"
   ],
   "metadata": {
    "collapsed": false,
    "ExecuteTime": {
     "end_time": "2024-02-29T13:18:30.890457700Z",
     "start_time": "2024-02-29T13:18:30.615045Z"
    }
   }
  },
  {
   "cell_type": "markdown",
   "source": [
    "Wie wir oben sehen können, haben einige Spalten nicht den richtigen Datentyp. Numerische Variablen sollten den Typ \"float\" oder \"int\" haben, und Variablen mit Zeichenketten wie Kategorien sollten den Typ \"object\" haben. Bei den Variablen \"Bohrung\" und \"Hub\" handelt es sich beispielsweise um numerische Werte, die die Motoren beschreiben, so dass man erwarten sollte, dass sie vom Typ \"float\" oder \"int\" sind; sie werden jedoch als Typ \"object\" angezeigt."
   ],
   "metadata": {
    "collapsed": false
   }
  },
  {
   "cell_type": "code",
   "execution_count": 155,
   "outputs": [],
   "source": [
    "bronze_df[['bohrung', 'anschlag']] = bronze_df[['bohrung', 'anschlag']].astype(\"float\")\n",
    "bronze_df['normalisierter-verlustwert'] = bronze_df['normalisierter-verlustwert'].astype(\"int64\")\n",
    "bronze_df['preis'] = bronze_df['preis'].astype(\"float\")\n",
    "bronze_df['spitzendrehzahl'] = bronze_df['spitzendrehzahl'].astype(\"float\")\n",
    "bronze_df['pferdestärken'] = bronze_df['pferdestärken'].astype(\"int64\", copy=True)"
   ],
   "metadata": {
    "collapsed": false,
    "ExecuteTime": {
     "end_time": "2024-02-29T13:18:30.911952600Z",
     "start_time": "2024-02-29T13:18:30.632588900Z"
    }
   }
  },
  {
   "cell_type": "markdown",
   "source": [
    "Data Standardization\n",
    "\n",
    "Umwandlung von mpg in L/100km:\n",
    "\n",
    "In unserem Datensatz werden die Kraftstoffverbrauchsspalten \"Stadt-mpg\" und \"Autobahn-mpg\" in der Einheit mpg (miles per gallon) dargestellt. Angenommen, wir entwickeln eine Anwendung in einem Land, in dem der Kraftstoffverbrauch in L/100km angegeben wird.\n",
    "\n",
    "Die Formel für die Einheitenumrechnung lautet\n",
    "\n",
    "L/100km = 235 / mpg"
   ],
   "metadata": {
    "collapsed": false
   }
  },
  {
   "cell_type": "code",
   "execution_count": 156,
   "outputs": [],
   "source": [
    "bronze_df['stadt-L/100km'] = 235/bronze_df['stadt-mpg']\n",
    "bronze_df['autobahn-L/100km'] = 235/bronze_df['autobahn-mpg']"
   ],
   "metadata": {
    "collapsed": false,
    "ExecuteTime": {
     "end_time": "2024-02-29T13:18:30.912974700Z",
     "start_time": "2024-02-29T13:18:30.637619600Z"
    }
   }
  },
  {
   "cell_type": "markdown",
   "source": [
    "Data Normalization\n",
    "\n",
    "Unter Normalisierung versteht man den Prozess der Umwandlung von Werten mehrerer Variablen in einen ähnlichen Bereich. Typische Normalisierungen umfassen die Skalierung der Variablen, so dass der Durchschnitt der Variablen 0 ist, die Skalierung der Variablen, so dass die Varianz 1 ist, oder die Skalierung der Variablen, so dass die Variablenwerte zwischen 0 und 1 liegen."
   ],
   "metadata": {
    "collapsed": false
   }
  },
  {
   "cell_type": "code",
   "execution_count": 157,
   "outputs": [
    {
     "data": {
      "text/plain": "   länge-norm  breite-norm  höhe-norm\n0    0.811148     0.890278   0.816054\n1    0.811148     0.890278   0.816054\n2    0.822681     0.909722   0.876254\n3    0.848630     0.919444   0.908027\n4    0.848630     0.922222   0.908027",
      "text/html": "<div>\n<style scoped>\n    .dataframe tbody tr th:only-of-type {\n        vertical-align: middle;\n    }\n\n    .dataframe tbody tr th {\n        vertical-align: top;\n    }\n\n    .dataframe thead th {\n        text-align: right;\n    }\n</style>\n<table border=\"1\" class=\"dataframe\">\n  <thead>\n    <tr style=\"text-align: right;\">\n      <th></th>\n      <th>länge-norm</th>\n      <th>breite-norm</th>\n      <th>höhe-norm</th>\n    </tr>\n  </thead>\n  <tbody>\n    <tr>\n      <th>0</th>\n      <td>0.811148</td>\n      <td>0.890278</td>\n      <td>0.816054</td>\n    </tr>\n    <tr>\n      <th>1</th>\n      <td>0.811148</td>\n      <td>0.890278</td>\n      <td>0.816054</td>\n    </tr>\n    <tr>\n      <th>2</th>\n      <td>0.822681</td>\n      <td>0.909722</td>\n      <td>0.876254</td>\n    </tr>\n    <tr>\n      <th>3</th>\n      <td>0.848630</td>\n      <td>0.919444</td>\n      <td>0.908027</td>\n    </tr>\n    <tr>\n      <th>4</th>\n      <td>0.848630</td>\n      <td>0.922222</td>\n      <td>0.908027</td>\n    </tr>\n  </tbody>\n</table>\n</div>"
     },
     "metadata": {},
     "output_type": "display_data"
    }
   ],
   "source": [
    "bronze_df['länge-norm'] = bronze_df['länge'] / bronze_df['länge'].max()\n",
    "bronze_df['breite-norm'] = bronze_df['breite'] / bronze_df['breite'].max()\n",
    "bronze_df['höhe-norm'] = bronze_df['höhe'] / bronze_df['höhe'].max()\n",
    "\n",
    "display(bronze_df[['länge-norm','breite-norm','höhe-norm']].head())"
   ],
   "metadata": {
    "collapsed": false,
    "ExecuteTime": {
     "end_time": "2024-02-29T13:18:30.915997Z",
     "start_time": "2024-02-29T13:18:30.647020100Z"
    }
   }
  },
  {
   "cell_type": "markdown",
   "source": [
    "Binning\n",
    "\n",
    "Binning ist ein Verfahren zur Umwandlung kontinuierlicher numerischer Variablen in diskrete kategorische \"Bins\" für eine gruppierte Analyse."
   ],
   "metadata": {
    "collapsed": false
   }
  },
  {
   "cell_type": "code",
   "execution_count": 165,
   "outputs": [
    {
     "data": {
      "text/plain": "    pferdestärken pferdestärken-binned\n0             111              niedrig\n1             111              niedrig\n2             154               mittel\n3             102              niedrig\n4             115              niedrig\n5             110              niedrig\n6             110              niedrig\n7             110              niedrig\n8             140               mittel\n9             101              niedrig\n10            101              niedrig\n11            121               mittel\n12            121               mittel\n13            121               mittel\n14            182               mittel\n15            182               mittel\n16            182               mittel\n17             48              niedrig\n18             70              niedrig\n19             70              niedrig",
      "text/html": "<div>\n<style scoped>\n    .dataframe tbody tr th:only-of-type {\n        vertical-align: middle;\n    }\n\n    .dataframe tbody tr th {\n        vertical-align: top;\n    }\n\n    .dataframe thead th {\n        text-align: right;\n    }\n</style>\n<table border=\"1\" class=\"dataframe\">\n  <thead>\n    <tr style=\"text-align: right;\">\n      <th></th>\n      <th>pferdestärken</th>\n      <th>pferdestärken-binned</th>\n    </tr>\n  </thead>\n  <tbody>\n    <tr>\n      <th>0</th>\n      <td>111</td>\n      <td>niedrig</td>\n    </tr>\n    <tr>\n      <th>1</th>\n      <td>111</td>\n      <td>niedrig</td>\n    </tr>\n    <tr>\n      <th>2</th>\n      <td>154</td>\n      <td>mittel</td>\n    </tr>\n    <tr>\n      <th>3</th>\n      <td>102</td>\n      <td>niedrig</td>\n    </tr>\n    <tr>\n      <th>4</th>\n      <td>115</td>\n      <td>niedrig</td>\n    </tr>\n    <tr>\n      <th>5</th>\n      <td>110</td>\n      <td>niedrig</td>\n    </tr>\n    <tr>\n      <th>6</th>\n      <td>110</td>\n      <td>niedrig</td>\n    </tr>\n    <tr>\n      <th>7</th>\n      <td>110</td>\n      <td>niedrig</td>\n    </tr>\n    <tr>\n      <th>8</th>\n      <td>140</td>\n      <td>mittel</td>\n    </tr>\n    <tr>\n      <th>9</th>\n      <td>101</td>\n      <td>niedrig</td>\n    </tr>\n    <tr>\n      <th>10</th>\n      <td>101</td>\n      <td>niedrig</td>\n    </tr>\n    <tr>\n      <th>11</th>\n      <td>121</td>\n      <td>mittel</td>\n    </tr>\n    <tr>\n      <th>12</th>\n      <td>121</td>\n      <td>mittel</td>\n    </tr>\n    <tr>\n      <th>13</th>\n      <td>121</td>\n      <td>mittel</td>\n    </tr>\n    <tr>\n      <th>14</th>\n      <td>182</td>\n      <td>mittel</td>\n    </tr>\n    <tr>\n      <th>15</th>\n      <td>182</td>\n      <td>mittel</td>\n    </tr>\n    <tr>\n      <th>16</th>\n      <td>182</td>\n      <td>mittel</td>\n    </tr>\n    <tr>\n      <th>17</th>\n      <td>48</td>\n      <td>niedrig</td>\n    </tr>\n    <tr>\n      <th>18</th>\n      <td>70</td>\n      <td>niedrig</td>\n    </tr>\n    <tr>\n      <th>19</th>\n      <td>70</td>\n      <td>niedrig</td>\n    </tr>\n  </tbody>\n</table>\n</div>"
     },
     "metadata": {},
     "output_type": "display_data"
    }
   ],
   "source": [
    "bins = np.linspace(min(bronze_df['pferdestärken']), max(bronze_df['pferdestärken']), 4)\n",
    "gruppen_namen = ['niedrig', 'mittel', 'hoch']\n",
    "bronze_df['pferdestärken-binned'] = pd.cut(bronze_df['pferdestärken'], bins, labels=gruppen_namen, include_lowest=True )\n",
    "# bronze_df['pferdestärken-binned'] = pd.qcut(bronze_df['pferdestärken'], 3, labels=['niedrig', 'mittel', 'hoch'])\n",
    "display(bronze_df[['pferdestärken','pferdestärken-binned']].head(20))"
   ],
   "metadata": {
    "collapsed": false,
    "ExecuteTime": {
     "end_time": "2024-02-29T13:18:41.875734200Z",
     "start_time": "2024-02-29T13:18:41.837767Z"
    }
   }
  },
  {
   "cell_type": "markdown",
   "source": [
    "Indicator Variable (or Dummy Variable)"
   ],
   "metadata": {
    "collapsed": false
   }
  },
  {
   "cell_type": "code",
   "execution_count": 159,
   "outputs": [],
   "source": [
    "dummy = pd.get_dummies(bronze_df['kraftstofftyp'])\n",
    "bronze_df = pd.concat([bronze_df, dummy], axis=1)\n",
    "bronze_df.rename(columns={'gas': 'benzin'}, inplace=True)"
   ],
   "metadata": {
    "collapsed": false,
    "ExecuteTime": {
     "end_time": "2024-02-29T13:18:30.923746Z",
     "start_time": "2024-02-29T13:18:30.680099300Z"
    }
   }
  },
  {
   "cell_type": "markdown",
   "source": [
    "export als Parquet"
   ],
   "metadata": {
    "collapsed": false
   }
  },
  {
   "cell_type": "code",
   "execution_count": 160,
   "outputs": [
    {
     "data": {
      "text/plain": "     risikoniveau  normalisierter-verlustwert        marke kraftstofftyp  \\\n0               3                         122  alfa-romero           gas   \n1               3                         122  alfa-romero           gas   \n2               1                         122  alfa-romero           gas   \n3               2                         164         audi           gas   \n4               2                         164         audi           gas   \n..            ...                         ...          ...           ...   \n196            -1                          95        volvo           gas   \n197            -1                          95        volvo           gas   \n198            -1                          95        volvo           gas   \n199            -1                          95        volvo        diesel   \n200            -1                          95        volvo           gas   \n\n    absaugung türnummern   körperform antriebsräder motorstandort  radstand  \\\n0         std        two  convertible           rwd         front      88.6   \n1         std        two  convertible           rwd         front      88.6   \n2         std        two    hatchback           rwd         front      94.5   \n3         std       four        sedan           fwd         front      99.8   \n4         std       four        sedan           4wd         front      99.4   \n..        ...        ...          ...           ...           ...       ...   \n196       std       four        sedan           rwd         front     109.1   \n197     turbo       four        sedan           rwd         front     109.1   \n198       std       four        sedan           rwd         front     109.1   \n199     turbo       four        sedan           rwd         front     109.1   \n200     turbo       four        sedan           rwd         front     109.1   \n\n     ...  autobahn-mpg    preis  stadt-L/100km  autobahn-L/100km länge-norm  \\\n0    ...            27  13495.0      11.190476          8.703704   0.811148   \n1    ...            27  16500.0      11.190476          8.703704   0.811148   \n2    ...            26  16500.0      12.368421          9.038462   0.822681   \n3    ...            30  13950.0       9.791667          7.833333   0.848630   \n4    ...            22  17450.0      13.055556         10.681818   0.848630   \n..   ...           ...      ...            ...               ...        ...   \n196  ...            28  16845.0      10.217391          8.392857   0.907256   \n197  ...            25  19045.0      12.368421          9.400000   0.907256   \n198  ...            23  21485.0      13.055556         10.217391   0.907256   \n199  ...            27  22470.0       9.038462          8.703704   0.907256   \n200  ...            25  22625.0      12.368421          9.400000   0.907256   \n\n    breite-norm  höhe-norm pferdestärken-binned  diesel  benzin  \n0      0.890278   0.816054               mittel   False    True  \n1      0.890278   0.816054               mittel   False    True  \n2      0.909722   0.876254                 hoch   False    True  \n3      0.919444   0.908027               mittel   False    True  \n4      0.922222   0.908027                 hoch   False    True  \n..          ...        ...                  ...     ...     ...  \n196    0.956944   0.928094                 hoch   False    True  \n197    0.955556   0.928094                 hoch   False    True  \n198    0.956944   0.928094                 hoch   False    True  \n199    0.956944   0.928094               mittel    True   False  \n200    0.956944   0.928094                 hoch   False    True  \n\n[201 rows x 34 columns]",
      "text/html": "<div>\n<style scoped>\n    .dataframe tbody tr th:only-of-type {\n        vertical-align: middle;\n    }\n\n    .dataframe tbody tr th {\n        vertical-align: top;\n    }\n\n    .dataframe thead th {\n        text-align: right;\n    }\n</style>\n<table border=\"1\" class=\"dataframe\">\n  <thead>\n    <tr style=\"text-align: right;\">\n      <th></th>\n      <th>risikoniveau</th>\n      <th>normalisierter-verlustwert</th>\n      <th>marke</th>\n      <th>kraftstofftyp</th>\n      <th>absaugung</th>\n      <th>türnummern</th>\n      <th>körperform</th>\n      <th>antriebsräder</th>\n      <th>motorstandort</th>\n      <th>radstand</th>\n      <th>...</th>\n      <th>autobahn-mpg</th>\n      <th>preis</th>\n      <th>stadt-L/100km</th>\n      <th>autobahn-L/100km</th>\n      <th>länge-norm</th>\n      <th>breite-norm</th>\n      <th>höhe-norm</th>\n      <th>pferdestärken-binned</th>\n      <th>diesel</th>\n      <th>benzin</th>\n    </tr>\n  </thead>\n  <tbody>\n    <tr>\n      <th>0</th>\n      <td>3</td>\n      <td>122</td>\n      <td>alfa-romero</td>\n      <td>gas</td>\n      <td>std</td>\n      <td>two</td>\n      <td>convertible</td>\n      <td>rwd</td>\n      <td>front</td>\n      <td>88.6</td>\n      <td>...</td>\n      <td>27</td>\n      <td>13495.0</td>\n      <td>11.190476</td>\n      <td>8.703704</td>\n      <td>0.811148</td>\n      <td>0.890278</td>\n      <td>0.816054</td>\n      <td>mittel</td>\n      <td>False</td>\n      <td>True</td>\n    </tr>\n    <tr>\n      <th>1</th>\n      <td>3</td>\n      <td>122</td>\n      <td>alfa-romero</td>\n      <td>gas</td>\n      <td>std</td>\n      <td>two</td>\n      <td>convertible</td>\n      <td>rwd</td>\n      <td>front</td>\n      <td>88.6</td>\n      <td>...</td>\n      <td>27</td>\n      <td>16500.0</td>\n      <td>11.190476</td>\n      <td>8.703704</td>\n      <td>0.811148</td>\n      <td>0.890278</td>\n      <td>0.816054</td>\n      <td>mittel</td>\n      <td>False</td>\n      <td>True</td>\n    </tr>\n    <tr>\n      <th>2</th>\n      <td>1</td>\n      <td>122</td>\n      <td>alfa-romero</td>\n      <td>gas</td>\n      <td>std</td>\n      <td>two</td>\n      <td>hatchback</td>\n      <td>rwd</td>\n      <td>front</td>\n      <td>94.5</td>\n      <td>...</td>\n      <td>26</td>\n      <td>16500.0</td>\n      <td>12.368421</td>\n      <td>9.038462</td>\n      <td>0.822681</td>\n      <td>0.909722</td>\n      <td>0.876254</td>\n      <td>hoch</td>\n      <td>False</td>\n      <td>True</td>\n    </tr>\n    <tr>\n      <th>3</th>\n      <td>2</td>\n      <td>164</td>\n      <td>audi</td>\n      <td>gas</td>\n      <td>std</td>\n      <td>four</td>\n      <td>sedan</td>\n      <td>fwd</td>\n      <td>front</td>\n      <td>99.8</td>\n      <td>...</td>\n      <td>30</td>\n      <td>13950.0</td>\n      <td>9.791667</td>\n      <td>7.833333</td>\n      <td>0.848630</td>\n      <td>0.919444</td>\n      <td>0.908027</td>\n      <td>mittel</td>\n      <td>False</td>\n      <td>True</td>\n    </tr>\n    <tr>\n      <th>4</th>\n      <td>2</td>\n      <td>164</td>\n      <td>audi</td>\n      <td>gas</td>\n      <td>std</td>\n      <td>four</td>\n      <td>sedan</td>\n      <td>4wd</td>\n      <td>front</td>\n      <td>99.4</td>\n      <td>...</td>\n      <td>22</td>\n      <td>17450.0</td>\n      <td>13.055556</td>\n      <td>10.681818</td>\n      <td>0.848630</td>\n      <td>0.922222</td>\n      <td>0.908027</td>\n      <td>hoch</td>\n      <td>False</td>\n      <td>True</td>\n    </tr>\n    <tr>\n      <th>...</th>\n      <td>...</td>\n      <td>...</td>\n      <td>...</td>\n      <td>...</td>\n      <td>...</td>\n      <td>...</td>\n      <td>...</td>\n      <td>...</td>\n      <td>...</td>\n      <td>...</td>\n      <td>...</td>\n      <td>...</td>\n      <td>...</td>\n      <td>...</td>\n      <td>...</td>\n      <td>...</td>\n      <td>...</td>\n      <td>...</td>\n      <td>...</td>\n      <td>...</td>\n      <td>...</td>\n    </tr>\n    <tr>\n      <th>196</th>\n      <td>-1</td>\n      <td>95</td>\n      <td>volvo</td>\n      <td>gas</td>\n      <td>std</td>\n      <td>four</td>\n      <td>sedan</td>\n      <td>rwd</td>\n      <td>front</td>\n      <td>109.1</td>\n      <td>...</td>\n      <td>28</td>\n      <td>16845.0</td>\n      <td>10.217391</td>\n      <td>8.392857</td>\n      <td>0.907256</td>\n      <td>0.956944</td>\n      <td>0.928094</td>\n      <td>hoch</td>\n      <td>False</td>\n      <td>True</td>\n    </tr>\n    <tr>\n      <th>197</th>\n      <td>-1</td>\n      <td>95</td>\n      <td>volvo</td>\n      <td>gas</td>\n      <td>turbo</td>\n      <td>four</td>\n      <td>sedan</td>\n      <td>rwd</td>\n      <td>front</td>\n      <td>109.1</td>\n      <td>...</td>\n      <td>25</td>\n      <td>19045.0</td>\n      <td>12.368421</td>\n      <td>9.400000</td>\n      <td>0.907256</td>\n      <td>0.955556</td>\n      <td>0.928094</td>\n      <td>hoch</td>\n      <td>False</td>\n      <td>True</td>\n    </tr>\n    <tr>\n      <th>198</th>\n      <td>-1</td>\n      <td>95</td>\n      <td>volvo</td>\n      <td>gas</td>\n      <td>std</td>\n      <td>four</td>\n      <td>sedan</td>\n      <td>rwd</td>\n      <td>front</td>\n      <td>109.1</td>\n      <td>...</td>\n      <td>23</td>\n      <td>21485.0</td>\n      <td>13.055556</td>\n      <td>10.217391</td>\n      <td>0.907256</td>\n      <td>0.956944</td>\n      <td>0.928094</td>\n      <td>hoch</td>\n      <td>False</td>\n      <td>True</td>\n    </tr>\n    <tr>\n      <th>199</th>\n      <td>-1</td>\n      <td>95</td>\n      <td>volvo</td>\n      <td>diesel</td>\n      <td>turbo</td>\n      <td>four</td>\n      <td>sedan</td>\n      <td>rwd</td>\n      <td>front</td>\n      <td>109.1</td>\n      <td>...</td>\n      <td>27</td>\n      <td>22470.0</td>\n      <td>9.038462</td>\n      <td>8.703704</td>\n      <td>0.907256</td>\n      <td>0.956944</td>\n      <td>0.928094</td>\n      <td>mittel</td>\n      <td>True</td>\n      <td>False</td>\n    </tr>\n    <tr>\n      <th>200</th>\n      <td>-1</td>\n      <td>95</td>\n      <td>volvo</td>\n      <td>gas</td>\n      <td>turbo</td>\n      <td>four</td>\n      <td>sedan</td>\n      <td>rwd</td>\n      <td>front</td>\n      <td>109.1</td>\n      <td>...</td>\n      <td>25</td>\n      <td>22625.0</td>\n      <td>12.368421</td>\n      <td>9.400000</td>\n      <td>0.907256</td>\n      <td>0.956944</td>\n      <td>0.928094</td>\n      <td>hoch</td>\n      <td>False</td>\n      <td>True</td>\n    </tr>\n  </tbody>\n</table>\n<p>201 rows × 34 columns</p>\n</div>"
     },
     "metadata": {},
     "output_type": "display_data"
    },
    {
     "name": "stdout",
     "output_type": "stream",
     "text": [
      "Index(['risikoniveau', 'normalisierter-verlustwert', 'marke', 'kraftstofftyp',\n",
      "       'absaugung', 'türnummern', 'körperform', 'antriebsräder',\n",
      "       'motorstandort', 'radstand', 'länge', 'breite', 'höhe', 'leergewicht',\n",
      "       'motortyp', 'anzahl-der-zylinder', 'motorgröße', 'kraftstoffsystem',\n",
      "       'bohrung', 'anschlag', 'verdichtungsverhältnis', 'pferdestärken',\n",
      "       'spitzendrehzahl', 'stadt-mpg', 'autobahn-mpg', 'preis',\n",
      "       'stadt-L/100km', 'autobahn-L/100km', 'länge-norm', 'breite-norm',\n",
      "       'höhe-norm', 'pferdestärken-binned', 'diesel', 'benzin'],\n",
      "      dtype='object')\n"
     ]
    }
   ],
   "source": [
    "parquet_file_path = os.path.join('.', 'silber')\n",
    "parquet_file_name = 'auto_silber.parquet'\n",
    "\n",
    "if not os.path.exists(parquet_file_path):\n",
    "    os.mkdir(parquet_file_path)\n",
    "\n",
    "bronze_df.to_parquet(os.path.join(parquet_file_path, parquet_file_name))\n",
    "display(bronze_df)\n",
    "print(bronze_df.columns)"
   ],
   "metadata": {
    "collapsed": false,
    "ExecuteTime": {
     "end_time": "2024-02-29T13:18:30.924735400Z",
     "start_time": "2024-02-29T13:18:30.690641Z"
    }
   }
  },
  {
   "cell_type": "markdown",
   "source": [
    "## Gold Schicht\n"
   ],
   "metadata": {
    "collapsed": false
   }
  },
  {
   "cell_type": "code",
   "execution_count": 161,
   "outputs": [],
   "source": [
    "silber_df = pd.read_parquet('silber/auto_silber.parquet')\n",
    "\n",
    "def safe_gold_usecase(silber_df, columns, usecase_name):\n",
    "    parquet_file_path = os.path.join('.', 'gold')\n",
    "    parquet_file_name = f'auto_{usecase_name}.parquet'\n",
    "    \n",
    "    if not os.path.exists(parquet_file_path):\n",
    "        os.mkdir(parquet_file_path)\n",
    "        \n",
    "    gold_df = silber_df[columns].copy()\n",
    "    gold_df.to_parquet(os.path.join(parquet_file_path, parquet_file_name))\n",
    "    display(gold_df)"
   ],
   "metadata": {
    "collapsed": false,
    "ExecuteTime": {
     "end_time": "2024-02-29T13:18:30.924735400Z",
     "start_time": "2024-02-29T13:18:30.722192600Z"
    }
   }
  },
  {
   "cell_type": "markdown",
   "source": [
    "Kraftstoffeffizienzvorhersage: \n",
    "Basierend auf den Merkmalen welche eine Vorhersage über die Kraftstoffeffizienz eines Fahrzeugs erstellt werden."
   ],
   "metadata": {
    "collapsed": false
   }
  },
  {
   "cell_type": "code",
   "execution_count": 162,
   "outputs": [
    {
     "data": {
      "text/plain": "     motorgröße kraftstoffsystem  bohrung  anschlag  verdichtungsverhältnis  \\\n0           130             mpfi     3.47      2.68                     9.0   \n1           130             mpfi     3.47      2.68                     9.0   \n2           152             mpfi     2.68      3.47                     9.0   \n3           109             mpfi     3.19      3.40                    10.0   \n4           136             mpfi     3.19      3.40                     8.0   \n..          ...              ...      ...       ...                     ...   \n196         141             mpfi     3.78      3.15                     9.5   \n197         141             mpfi     3.78      3.15                     8.7   \n198         173             mpfi     3.58      2.87                     8.8   \n199         145              idi     3.01      3.40                    23.0   \n200         141             mpfi     3.78      3.15                     9.5   \n\n     leergewicht  pferdestärken  spitzendrehzahl  stadt-L/100km  \\\n0           2548            111           5000.0      11.190476   \n1           2548            111           5000.0      11.190476   \n2           2823            154           5000.0      12.368421   \n3           2337            102           5500.0       9.791667   \n4           2824            115           5500.0      13.055556   \n..           ...            ...              ...            ...   \n196         2952            114           5400.0      10.217391   \n197         3049            160           5300.0      12.368421   \n198         3012            134           5500.0      13.055556   \n199         3217            106           4800.0       9.038462   \n200         3062            114           5400.0      12.368421   \n\n     autobahn-L/100km pferdestärken-binned  diesel  benzin  \n0            8.703704               mittel   False    True  \n1            8.703704               mittel   False    True  \n2            9.038462                 hoch   False    True  \n3            7.833333               mittel   False    True  \n4           10.681818                 hoch   False    True  \n..                ...                  ...     ...     ...  \n196          8.392857                 hoch   False    True  \n197          9.400000                 hoch   False    True  \n198         10.217391                 hoch   False    True  \n199          8.703704               mittel    True   False  \n200          9.400000                 hoch   False    True  \n\n[201 rows x 13 columns]",
      "text/html": "<div>\n<style scoped>\n    .dataframe tbody tr th:only-of-type {\n        vertical-align: middle;\n    }\n\n    .dataframe tbody tr th {\n        vertical-align: top;\n    }\n\n    .dataframe thead th {\n        text-align: right;\n    }\n</style>\n<table border=\"1\" class=\"dataframe\">\n  <thead>\n    <tr style=\"text-align: right;\">\n      <th></th>\n      <th>motorgröße</th>\n      <th>kraftstoffsystem</th>\n      <th>bohrung</th>\n      <th>anschlag</th>\n      <th>verdichtungsverhältnis</th>\n      <th>leergewicht</th>\n      <th>pferdestärken</th>\n      <th>spitzendrehzahl</th>\n      <th>stadt-L/100km</th>\n      <th>autobahn-L/100km</th>\n      <th>pferdestärken-binned</th>\n      <th>diesel</th>\n      <th>benzin</th>\n    </tr>\n  </thead>\n  <tbody>\n    <tr>\n      <th>0</th>\n      <td>130</td>\n      <td>mpfi</td>\n      <td>3.47</td>\n      <td>2.68</td>\n      <td>9.0</td>\n      <td>2548</td>\n      <td>111</td>\n      <td>5000.0</td>\n      <td>11.190476</td>\n      <td>8.703704</td>\n      <td>mittel</td>\n      <td>False</td>\n      <td>True</td>\n    </tr>\n    <tr>\n      <th>1</th>\n      <td>130</td>\n      <td>mpfi</td>\n      <td>3.47</td>\n      <td>2.68</td>\n      <td>9.0</td>\n      <td>2548</td>\n      <td>111</td>\n      <td>5000.0</td>\n      <td>11.190476</td>\n      <td>8.703704</td>\n      <td>mittel</td>\n      <td>False</td>\n      <td>True</td>\n    </tr>\n    <tr>\n      <th>2</th>\n      <td>152</td>\n      <td>mpfi</td>\n      <td>2.68</td>\n      <td>3.47</td>\n      <td>9.0</td>\n      <td>2823</td>\n      <td>154</td>\n      <td>5000.0</td>\n      <td>12.368421</td>\n      <td>9.038462</td>\n      <td>hoch</td>\n      <td>False</td>\n      <td>True</td>\n    </tr>\n    <tr>\n      <th>3</th>\n      <td>109</td>\n      <td>mpfi</td>\n      <td>3.19</td>\n      <td>3.40</td>\n      <td>10.0</td>\n      <td>2337</td>\n      <td>102</td>\n      <td>5500.0</td>\n      <td>9.791667</td>\n      <td>7.833333</td>\n      <td>mittel</td>\n      <td>False</td>\n      <td>True</td>\n    </tr>\n    <tr>\n      <th>4</th>\n      <td>136</td>\n      <td>mpfi</td>\n      <td>3.19</td>\n      <td>3.40</td>\n      <td>8.0</td>\n      <td>2824</td>\n      <td>115</td>\n      <td>5500.0</td>\n      <td>13.055556</td>\n      <td>10.681818</td>\n      <td>hoch</td>\n      <td>False</td>\n      <td>True</td>\n    </tr>\n    <tr>\n      <th>...</th>\n      <td>...</td>\n      <td>...</td>\n      <td>...</td>\n      <td>...</td>\n      <td>...</td>\n      <td>...</td>\n      <td>...</td>\n      <td>...</td>\n      <td>...</td>\n      <td>...</td>\n      <td>...</td>\n      <td>...</td>\n      <td>...</td>\n    </tr>\n    <tr>\n      <th>196</th>\n      <td>141</td>\n      <td>mpfi</td>\n      <td>3.78</td>\n      <td>3.15</td>\n      <td>9.5</td>\n      <td>2952</td>\n      <td>114</td>\n      <td>5400.0</td>\n      <td>10.217391</td>\n      <td>8.392857</td>\n      <td>hoch</td>\n      <td>False</td>\n      <td>True</td>\n    </tr>\n    <tr>\n      <th>197</th>\n      <td>141</td>\n      <td>mpfi</td>\n      <td>3.78</td>\n      <td>3.15</td>\n      <td>8.7</td>\n      <td>3049</td>\n      <td>160</td>\n      <td>5300.0</td>\n      <td>12.368421</td>\n      <td>9.400000</td>\n      <td>hoch</td>\n      <td>False</td>\n      <td>True</td>\n    </tr>\n    <tr>\n      <th>198</th>\n      <td>173</td>\n      <td>mpfi</td>\n      <td>3.58</td>\n      <td>2.87</td>\n      <td>8.8</td>\n      <td>3012</td>\n      <td>134</td>\n      <td>5500.0</td>\n      <td>13.055556</td>\n      <td>10.217391</td>\n      <td>hoch</td>\n      <td>False</td>\n      <td>True</td>\n    </tr>\n    <tr>\n      <th>199</th>\n      <td>145</td>\n      <td>idi</td>\n      <td>3.01</td>\n      <td>3.40</td>\n      <td>23.0</td>\n      <td>3217</td>\n      <td>106</td>\n      <td>4800.0</td>\n      <td>9.038462</td>\n      <td>8.703704</td>\n      <td>mittel</td>\n      <td>True</td>\n      <td>False</td>\n    </tr>\n    <tr>\n      <th>200</th>\n      <td>141</td>\n      <td>mpfi</td>\n      <td>3.78</td>\n      <td>3.15</td>\n      <td>9.5</td>\n      <td>3062</td>\n      <td>114</td>\n      <td>5400.0</td>\n      <td>12.368421</td>\n      <td>9.400000</td>\n      <td>hoch</td>\n      <td>False</td>\n      <td>True</td>\n    </tr>\n  </tbody>\n</table>\n<p>201 rows × 13 columns</p>\n</div>"
     },
     "metadata": {},
     "output_type": "display_data"
    }
   ],
   "source": [
    "kraftstoffeffizienz_gold = ['motorgröße', 'kraftstoffsystem', 'bohrung', 'anschlag', 'verdichtungsverhältnis', 'leergewicht', 'pferdestärken', 'spitzendrehzahl', 'stadt-L/100km', 'autobahn-L/100km', 'pferdestärken-binned', 'diesel', 'benzin']\n",
    "\n",
    "safe_gold_usecase(silber_df, kraftstoffeffizienz_gold, 'kraftstoffeffizienz')"
   ],
   "metadata": {
    "collapsed": false,
    "ExecuteTime": {
     "end_time": "2024-02-29T13:18:30.925824700Z",
     "start_time": "2024-02-29T13:18:30.741567900Z"
    }
   }
  },
  {
   "cell_type": "markdown",
   "source": [
    "Segmentierung von Fahrzeugen: \n",
    "Basierend auf den Merkmalen welche Fahrzeuge in verschiedene Segmente eingeteilt werden (z.B. Kleinwagen, Limousinen, Geländewagen), was für Marketing- und Vertriebsstrategien relevant ist."
   ],
   "metadata": {
    "collapsed": false
   }
  },
  {
   "cell_type": "code",
   "execution_count": 163,
   "outputs": [
    {
     "data": {
      "text/plain": "           marke  normalisierter-verlustwert türnummern   körperform  \\\n0    alfa-romero                         122        two  convertible   \n1    alfa-romero                         122        two  convertible   \n2    alfa-romero                         122        two    hatchback   \n3           audi                         164       four        sedan   \n4           audi                         164       four        sedan   \n..           ...                         ...        ...          ...   \n196        volvo                          95       four        sedan   \n197        volvo                          95       four        sedan   \n198        volvo                          95       four        sedan   \n199        volvo                          95       four        sedan   \n200        volvo                          95       four        sedan   \n\n    antriebsräder motorstandort  radstand  länge  breite  höhe  leergewicht  \\\n0             rwd         front      88.6  168.8    64.1  48.8         2548   \n1             rwd         front      88.6  168.8    64.1  48.8         2548   \n2             rwd         front      94.5  171.2    65.5  52.4         2823   \n3             fwd         front      99.8  176.6    66.2  54.3         2337   \n4             4wd         front      99.4  176.6    66.4  54.3         2824   \n..            ...           ...       ...    ...     ...   ...          ...   \n196           rwd         front     109.1  188.8    68.9  55.5         2952   \n197           rwd         front     109.1  188.8    68.8  55.5         3049   \n198           rwd         front     109.1  188.8    68.9  55.5         3012   \n199           rwd         front     109.1  188.8    68.9  55.5         3217   \n200           rwd         front     109.1  188.8    68.9  55.5         3062   \n\n     länge-norm  breite-norm  höhe-norm  \n0      0.811148     0.890278   0.816054  \n1      0.811148     0.890278   0.816054  \n2      0.822681     0.909722   0.876254  \n3      0.848630     0.919444   0.908027  \n4      0.848630     0.922222   0.908027  \n..          ...          ...        ...  \n196    0.907256     0.956944   0.928094  \n197    0.907256     0.955556   0.928094  \n198    0.907256     0.956944   0.928094  \n199    0.907256     0.956944   0.928094  \n200    0.907256     0.956944   0.928094  \n\n[201 rows x 14 columns]",
      "text/html": "<div>\n<style scoped>\n    .dataframe tbody tr th:only-of-type {\n        vertical-align: middle;\n    }\n\n    .dataframe tbody tr th {\n        vertical-align: top;\n    }\n\n    .dataframe thead th {\n        text-align: right;\n    }\n</style>\n<table border=\"1\" class=\"dataframe\">\n  <thead>\n    <tr style=\"text-align: right;\">\n      <th></th>\n      <th>marke</th>\n      <th>normalisierter-verlustwert</th>\n      <th>türnummern</th>\n      <th>körperform</th>\n      <th>antriebsräder</th>\n      <th>motorstandort</th>\n      <th>radstand</th>\n      <th>länge</th>\n      <th>breite</th>\n      <th>höhe</th>\n      <th>leergewicht</th>\n      <th>länge-norm</th>\n      <th>breite-norm</th>\n      <th>höhe-norm</th>\n    </tr>\n  </thead>\n  <tbody>\n    <tr>\n      <th>0</th>\n      <td>alfa-romero</td>\n      <td>122</td>\n      <td>two</td>\n      <td>convertible</td>\n      <td>rwd</td>\n      <td>front</td>\n      <td>88.6</td>\n      <td>168.8</td>\n      <td>64.1</td>\n      <td>48.8</td>\n      <td>2548</td>\n      <td>0.811148</td>\n      <td>0.890278</td>\n      <td>0.816054</td>\n    </tr>\n    <tr>\n      <th>1</th>\n      <td>alfa-romero</td>\n      <td>122</td>\n      <td>two</td>\n      <td>convertible</td>\n      <td>rwd</td>\n      <td>front</td>\n      <td>88.6</td>\n      <td>168.8</td>\n      <td>64.1</td>\n      <td>48.8</td>\n      <td>2548</td>\n      <td>0.811148</td>\n      <td>0.890278</td>\n      <td>0.816054</td>\n    </tr>\n    <tr>\n      <th>2</th>\n      <td>alfa-romero</td>\n      <td>122</td>\n      <td>two</td>\n      <td>hatchback</td>\n      <td>rwd</td>\n      <td>front</td>\n      <td>94.5</td>\n      <td>171.2</td>\n      <td>65.5</td>\n      <td>52.4</td>\n      <td>2823</td>\n      <td>0.822681</td>\n      <td>0.909722</td>\n      <td>0.876254</td>\n    </tr>\n    <tr>\n      <th>3</th>\n      <td>audi</td>\n      <td>164</td>\n      <td>four</td>\n      <td>sedan</td>\n      <td>fwd</td>\n      <td>front</td>\n      <td>99.8</td>\n      <td>176.6</td>\n      <td>66.2</td>\n      <td>54.3</td>\n      <td>2337</td>\n      <td>0.848630</td>\n      <td>0.919444</td>\n      <td>0.908027</td>\n    </tr>\n    <tr>\n      <th>4</th>\n      <td>audi</td>\n      <td>164</td>\n      <td>four</td>\n      <td>sedan</td>\n      <td>4wd</td>\n      <td>front</td>\n      <td>99.4</td>\n      <td>176.6</td>\n      <td>66.4</td>\n      <td>54.3</td>\n      <td>2824</td>\n      <td>0.848630</td>\n      <td>0.922222</td>\n      <td>0.908027</td>\n    </tr>\n    <tr>\n      <th>...</th>\n      <td>...</td>\n      <td>...</td>\n      <td>...</td>\n      <td>...</td>\n      <td>...</td>\n      <td>...</td>\n      <td>...</td>\n      <td>...</td>\n      <td>...</td>\n      <td>...</td>\n      <td>...</td>\n      <td>...</td>\n      <td>...</td>\n      <td>...</td>\n    </tr>\n    <tr>\n      <th>196</th>\n      <td>volvo</td>\n      <td>95</td>\n      <td>four</td>\n      <td>sedan</td>\n      <td>rwd</td>\n      <td>front</td>\n      <td>109.1</td>\n      <td>188.8</td>\n      <td>68.9</td>\n      <td>55.5</td>\n      <td>2952</td>\n      <td>0.907256</td>\n      <td>0.956944</td>\n      <td>0.928094</td>\n    </tr>\n    <tr>\n      <th>197</th>\n      <td>volvo</td>\n      <td>95</td>\n      <td>four</td>\n      <td>sedan</td>\n      <td>rwd</td>\n      <td>front</td>\n      <td>109.1</td>\n      <td>188.8</td>\n      <td>68.8</td>\n      <td>55.5</td>\n      <td>3049</td>\n      <td>0.907256</td>\n      <td>0.955556</td>\n      <td>0.928094</td>\n    </tr>\n    <tr>\n      <th>198</th>\n      <td>volvo</td>\n      <td>95</td>\n      <td>four</td>\n      <td>sedan</td>\n      <td>rwd</td>\n      <td>front</td>\n      <td>109.1</td>\n      <td>188.8</td>\n      <td>68.9</td>\n      <td>55.5</td>\n      <td>3012</td>\n      <td>0.907256</td>\n      <td>0.956944</td>\n      <td>0.928094</td>\n    </tr>\n    <tr>\n      <th>199</th>\n      <td>volvo</td>\n      <td>95</td>\n      <td>four</td>\n      <td>sedan</td>\n      <td>rwd</td>\n      <td>front</td>\n      <td>109.1</td>\n      <td>188.8</td>\n      <td>68.9</td>\n      <td>55.5</td>\n      <td>3217</td>\n      <td>0.907256</td>\n      <td>0.956944</td>\n      <td>0.928094</td>\n    </tr>\n    <tr>\n      <th>200</th>\n      <td>volvo</td>\n      <td>95</td>\n      <td>four</td>\n      <td>sedan</td>\n      <td>rwd</td>\n      <td>front</td>\n      <td>109.1</td>\n      <td>188.8</td>\n      <td>68.9</td>\n      <td>55.5</td>\n      <td>3062</td>\n      <td>0.907256</td>\n      <td>0.956944</td>\n      <td>0.928094</td>\n    </tr>\n  </tbody>\n</table>\n<p>201 rows × 14 columns</p>\n</div>"
     },
     "metadata": {},
     "output_type": "display_data"
    }
   ],
   "source": [
    "segmentierung_gold  = ['marke', 'normalisierter-verlustwert', 'türnummern', 'körperform', 'antriebsräder', 'motorstandort', 'radstand', 'länge', 'breite', 'höhe', 'leergewicht', 'länge-norm', 'breite-norm', 'höhe-norm']\n",
    "\n",
    "safe_gold_usecase(silber_df, segmentierung_gold, 'segmentierung')"
   ],
   "metadata": {
    "collapsed": false,
    "ExecuteTime": {
     "end_time": "2024-02-29T13:18:30.925824700Z",
     "start_time": "2024-02-29T13:18:30.765876Z"
    }
   }
  },
  {
   "cell_type": "markdown",
   "source": [
    "Preisvorhersage: \n",
    "Nutzen Sie die verschiedenen Merkmale um den Preis eines Fahrzeugs vorherzusagen. Dies kann für Händler und Kunden gleichermaßen nützlich sein."
   ],
   "metadata": {
    "collapsed": false
   }
  },
  {
   "cell_type": "code",
   "execution_count": 164,
   "outputs": [
    {
     "data": {
      "text/plain": "     risikoniveau        marke kraftstofftyp türnummern antriebsräder  \\\n0               3  alfa-romero           gas        two           rwd   \n1               3  alfa-romero           gas        two           rwd   \n2               1  alfa-romero           gas        two           rwd   \n3               2         audi           gas       four           fwd   \n4               2         audi           gas       four           4wd   \n..            ...          ...           ...        ...           ...   \n196            -1        volvo           gas       four           rwd   \n197            -1        volvo           gas       four           rwd   \n198            -1        volvo           gas       four           rwd   \n199            -1        volvo        diesel       four           rwd   \n200            -1        volvo           gas       four           rwd   \n\n    motorstandort motortyp anzahl-der-zylinder pferdestärken-binned    preis  \n0           front     dohc                four               mittel  13495.0  \n1           front     dohc                four               mittel  16500.0  \n2           front     ohcv                 six                 hoch  16500.0  \n3           front      ohc                four               mittel  13950.0  \n4           front      ohc                five                 hoch  17450.0  \n..            ...      ...                 ...                  ...      ...  \n196         front      ohc                four                 hoch  16845.0  \n197         front      ohc                four                 hoch  19045.0  \n198         front     ohcv                 six                 hoch  21485.0  \n199         front      ohc                 six               mittel  22470.0  \n200         front      ohc                four                 hoch  22625.0  \n\n[201 rows x 10 columns]",
      "text/html": "<div>\n<style scoped>\n    .dataframe tbody tr th:only-of-type {\n        vertical-align: middle;\n    }\n\n    .dataframe tbody tr th {\n        vertical-align: top;\n    }\n\n    .dataframe thead th {\n        text-align: right;\n    }\n</style>\n<table border=\"1\" class=\"dataframe\">\n  <thead>\n    <tr style=\"text-align: right;\">\n      <th></th>\n      <th>risikoniveau</th>\n      <th>marke</th>\n      <th>kraftstofftyp</th>\n      <th>türnummern</th>\n      <th>antriebsräder</th>\n      <th>motorstandort</th>\n      <th>motortyp</th>\n      <th>anzahl-der-zylinder</th>\n      <th>pferdestärken-binned</th>\n      <th>preis</th>\n    </tr>\n  </thead>\n  <tbody>\n    <tr>\n      <th>0</th>\n      <td>3</td>\n      <td>alfa-romero</td>\n      <td>gas</td>\n      <td>two</td>\n      <td>rwd</td>\n      <td>front</td>\n      <td>dohc</td>\n      <td>four</td>\n      <td>mittel</td>\n      <td>13495.0</td>\n    </tr>\n    <tr>\n      <th>1</th>\n      <td>3</td>\n      <td>alfa-romero</td>\n      <td>gas</td>\n      <td>two</td>\n      <td>rwd</td>\n      <td>front</td>\n      <td>dohc</td>\n      <td>four</td>\n      <td>mittel</td>\n      <td>16500.0</td>\n    </tr>\n    <tr>\n      <th>2</th>\n      <td>1</td>\n      <td>alfa-romero</td>\n      <td>gas</td>\n      <td>two</td>\n      <td>rwd</td>\n      <td>front</td>\n      <td>ohcv</td>\n      <td>six</td>\n      <td>hoch</td>\n      <td>16500.0</td>\n    </tr>\n    <tr>\n      <th>3</th>\n      <td>2</td>\n      <td>audi</td>\n      <td>gas</td>\n      <td>four</td>\n      <td>fwd</td>\n      <td>front</td>\n      <td>ohc</td>\n      <td>four</td>\n      <td>mittel</td>\n      <td>13950.0</td>\n    </tr>\n    <tr>\n      <th>4</th>\n      <td>2</td>\n      <td>audi</td>\n      <td>gas</td>\n      <td>four</td>\n      <td>4wd</td>\n      <td>front</td>\n      <td>ohc</td>\n      <td>five</td>\n      <td>hoch</td>\n      <td>17450.0</td>\n    </tr>\n    <tr>\n      <th>...</th>\n      <td>...</td>\n      <td>...</td>\n      <td>...</td>\n      <td>...</td>\n      <td>...</td>\n      <td>...</td>\n      <td>...</td>\n      <td>...</td>\n      <td>...</td>\n      <td>...</td>\n    </tr>\n    <tr>\n      <th>196</th>\n      <td>-1</td>\n      <td>volvo</td>\n      <td>gas</td>\n      <td>four</td>\n      <td>rwd</td>\n      <td>front</td>\n      <td>ohc</td>\n      <td>four</td>\n      <td>hoch</td>\n      <td>16845.0</td>\n    </tr>\n    <tr>\n      <th>197</th>\n      <td>-1</td>\n      <td>volvo</td>\n      <td>gas</td>\n      <td>four</td>\n      <td>rwd</td>\n      <td>front</td>\n      <td>ohc</td>\n      <td>four</td>\n      <td>hoch</td>\n      <td>19045.0</td>\n    </tr>\n    <tr>\n      <th>198</th>\n      <td>-1</td>\n      <td>volvo</td>\n      <td>gas</td>\n      <td>four</td>\n      <td>rwd</td>\n      <td>front</td>\n      <td>ohcv</td>\n      <td>six</td>\n      <td>hoch</td>\n      <td>21485.0</td>\n    </tr>\n    <tr>\n      <th>199</th>\n      <td>-1</td>\n      <td>volvo</td>\n      <td>diesel</td>\n      <td>four</td>\n      <td>rwd</td>\n      <td>front</td>\n      <td>ohc</td>\n      <td>six</td>\n      <td>mittel</td>\n      <td>22470.0</td>\n    </tr>\n    <tr>\n      <th>200</th>\n      <td>-1</td>\n      <td>volvo</td>\n      <td>gas</td>\n      <td>four</td>\n      <td>rwd</td>\n      <td>front</td>\n      <td>ohc</td>\n      <td>four</td>\n      <td>hoch</td>\n      <td>22625.0</td>\n    </tr>\n  </tbody>\n</table>\n<p>201 rows × 10 columns</p>\n</div>"
     },
     "metadata": {},
     "output_type": "display_data"
    }
   ],
   "source": [
    "preisvorhersage_gold  = ['risikoniveau', 'marke', 'kraftstofftyp', 'türnummern', 'antriebsräder', 'motorstandort', 'motortyp', 'anzahl-der-zylinder', 'pferdestärken-binned', 'preis']\n",
    "\n",
    "safe_gold_usecase(silber_df, preisvorhersage_gold, 'preisvorhersage')"
   ],
   "metadata": {
    "collapsed": false,
    "ExecuteTime": {
     "end_time": "2024-02-29T13:18:30.928374Z",
     "start_time": "2024-02-29T13:18:30.788476500Z"
    }
   }
  },
  {
   "cell_type": "markdown",
   "source": [
    "## notizen"
   ],
   "metadata": {
    "collapsed": false
   }
  },
  {
   "cell_type": "markdown",
   "source": [
    "jupyter nbconvert --to script 'foo.ipynb'       "
   ],
   "metadata": {
    "collapsed": false
   }
  },
  {
   "cell_type": "markdown",
   "source": [
    "Um näher an eine Medaillenarchitektur zu gelangen, könnte man den gegebenen Code wie folgt anpassen:\n",
    "\n",
    "Bronze-Schicht:\n",
    "\n",
    "Die Bronze-Schicht bleibt unverändert. Sie dient weiterhin als Einstiegspunkt für die Rohdaten.\n",
    "Die Daten werden jedoch nicht direkt in eine CSV-Datei geschrieben, sondern in einem persistenteren und skalierbareren Format gespeichert, wie z.B. in einem Data Lake, einem Data Warehouse oder einer NoSQL-Datenbank.\n",
    "Silber-Schicht:\n",
    "\n",
    "Die Silber-Schicht übernimmt die Verarbeitung der Daten aus der Bronze-Schicht.\n",
    "Statt die Daten direkt in ein anderes Dateiformat zu schreiben, könnte man sie in einer verarbeiteten Form speichern, die für eine breitere Palette von Analysen und Anwendungen geeignet ist. Dies könnte bedeuten, dass Daten in einem Data Warehouse oder einem speziell optimierten Datenbankformat wie Parquet oder ORC gespeichert werden.\n",
    "Zudem könnten in dieser Schicht auch Metadaten hinzugefügt werden, die Informationen über die Datenqualität, -herkunft und -struktur enthalten.\n",
    "Gold-Schicht:\n",
    "\n",
    "Die Gold-Schicht bleibt im Wesentlichen unverändert. Sie konzentriert sich darauf, spezifische Analyse- und Anwendungsfälle zu bedienen.\n",
    "Allerdings könnten die in dieser Schicht erzeugten Daten weiter verfeinert werden, um Analysen auf einem höheren Niveau zu ermöglichen. Dies könnte bedeuten, dass zusätzliche Analysen, Vorhersagemodelle oder Data-Mining-Algorithmen angewendet werden, um zusätzliche Einblicke zu gewinnen.\n",
    "Die Ergebnisse dieser Analysen könnten dann wiederum in einem persistenteren Format gespeichert werden, um langfristige Analysen und Vergleiche zu ermöglichen.\n",
    "Insgesamt würde eine Anpassung des Codes an eine Medaillenarchitektur dazu führen, dass die Daten in verschiedenen Schichten in unterschiedlichen Formaten und Verarbeitungsstufen gespeichert und verarbeitet werden. Dies ermöglicht eine flexiblere und skalierbarere Datenverarbeitung, die den Anforderungen verschiedener Analyse- und Anwendungsfälle besser gerecht wird."
   ],
   "metadata": {
    "collapsed": false
   }
  },
  {
   "cell_type": "code",
   "execution_count": null,
   "outputs": [],
   "source": [],
   "metadata": {
    "collapsed": false
   }
  }
 ],
 "metadata": {
  "kernelspec": {
   "display_name": "Python 3",
   "language": "python",
   "name": "python3"
  },
  "language_info": {
   "codemirror_mode": {
    "name": "ipython",
    "version": 2
   },
   "file_extension": ".py",
   "mimetype": "text/x-python",
   "name": "python",
   "nbconvert_exporter": "python",
   "pygments_lexer": "ipython2",
   "version": "2.7.6"
  }
 },
 "nbformat": 4,
 "nbformat_minor": 0
}
