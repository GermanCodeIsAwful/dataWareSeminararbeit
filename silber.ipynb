{
 "cells": [
  {
   "cell_type": "code",
   "execution_count": 1,
   "id": "initial_id",
   "metadata": {
    "collapsed": true,
    "ExecuteTime": {
     "end_time": "2024-02-29T15:41:43.437578200Z",
     "start_time": "2024-02-29T15:41:41.781283900Z"
    }
   },
   "outputs": [],
   "source": [
    "import pandas as pd\n",
    "import numpy as np\n",
    "import os"
   ]
  },
  {
   "cell_type": "markdown",
   "source": [
    "## Silber Schicht"
   ],
   "metadata": {
    "collapsed": false
   },
   "id": "814b846c045a2a14"
  },
  {
   "cell_type": "code",
   "execution_count": 2,
   "outputs": [],
   "source": [
    "silber_df = pd.read_csv('bronze/auto_bronze.csv')"
   ],
   "metadata": {
    "collapsed": false,
    "ExecuteTime": {
     "end_time": "2024-02-29T15:41:43.529811600Z",
     "start_time": "2024-02-29T15:41:43.400934900Z"
    }
   },
   "id": "c00e84856b2b740e"
  },
  {
   "cell_type": "markdown",
   "source": [
    "### Umwandlung von \"?\" in NaN"
   ],
   "metadata": {
    "collapsed": false
   },
   "id": "98f81f148941e3fa"
  },
  {
   "cell_type": "code",
   "execution_count": 3,
   "outputs": [],
   "source": [
    "silber_df.replace(\"?\", np.nan, inplace = True)"
   ],
   "metadata": {
    "collapsed": false,
    "ExecuteTime": {
     "end_time": "2024-02-29T15:41:43.565791700Z",
     "start_time": "2024-02-29T15:41:43.458838200Z"
    }
   },
   "id": "e0b8ce93e9032cc4"
  },
  {
   "cell_type": "code",
   "execution_count": 4,
   "outputs": [
    {
     "data": {
      "text/plain": "normalisierter-verlustwert    41\npreis                          4\nanschlag                       4\nbohrung                        4\nspitzendrehzahl                2\ntürnummern                     2\npferdestärken                  2\nmotortyp                       0\nautobahn-mpg                   0\nstadt-mpg                      0\nverdichtungsverhältnis         0\nkraftstoffsystem               0\nmotorgröße                     0\nanzahl-der-zylinder            0\nrisikoniveau                   0\nhöhe                           0\nbreite                         0\nlänge                          0\nradstand                       0\nmotorstandort                  0\nantriebsräder                  0\nkörperform                     0\nabsaugung                      0\nkraftstofftyp                  0\nmarke                          0\nleergewicht                    0\ndtype: int64"
     },
     "metadata": {},
     "output_type": "display_data"
    }
   ],
   "source": [
    "# Fehlende Werte in jeder Spalte zählen\n",
    "missing_data = silber_df.isnull().sum()\n",
    "missing_data.sort_values(inplace=True, ascending=False)\n",
    "display(missing_data)"
   ],
   "metadata": {
    "collapsed": false,
    "ExecuteTime": {
     "end_time": "2024-02-29T15:41:43.610701800Z",
     "start_time": "2024-02-29T15:41:43.496118Z"
    }
   },
   "id": "e60d8cfb02cd6a72"
  },
  {
   "cell_type": "markdown",
   "source": [
    "Wie geht man mit fehlenden Daten um?\n",
    "\n",
    "Daten löschen\n",
    "a. die gesamte Zeile löschen\n",
    "b. die gesamte Spalte löschen\n",
    "Daten ersetzen\n",
    "a. durch Mittelwert ersetzen\n",
    "b. Ersetzen durch Häufigkeit\n",
    "c. Ersetzen auf der Grundlage anderer Funktionen\n",
    "\n",
    "Ersetzen durch Mittelwert:\n",
    "\n",
    "\"normalisierte-Verluste\": 41 fehlende Daten, durch Mittelwert ersetzen\n",
    "\"Schlaganfall\": 4 fehlende Daten, durch Mittelwert ersetzen\n",
    "\"Bohrung\": 4 fehlende Daten, ersetzen Sie diese durch den Mittelwert\n",
    "\"Pferdestärken\": 2 fehlende Daten, durch Mittelwert ersetzen\n",
    "\"Spitzen-Drehzahl\": 2 fehlende Daten, ersetze sie durch den Mittelwert\n",
    "\n",
    "Ersetzen durch Häufigkeit:\n",
    "\n",
    "\"Anzahl der Türen\": 2 fehlende Daten, ersetze sie durch \"vier\".\n",
    "Grund: 84% der Limousinen sind viertürig. Da vier Türen am häufigsten vorkommen, ist es am wahrscheinlichsten, dass sie vorkommen.\n",
    "\n",
    "Streiche die ganze Zeile:\n",
    "\n",
    "\"Preis\": 4 fehlende Daten, einfach die ganze Zeile löschen\n",
    "Grund: Der Preis ist das, was wir vorhersagen wollen. Jeder Dateneintrag ohne Preisdaten kann nicht für die Vorhersage verwendet werden; daher ist jede Zeile ohne Preisdaten für uns nicht nützlich"
   ],
   "metadata": {
    "collapsed": false
   },
   "id": "380ce43afeee6b00"
  },
  {
   "cell_type": "code",
   "execution_count": 5,
   "outputs": [],
   "source": [
    "# Ersetzen durch Mittelwert\n",
    "avg_normalisierter_verlustwert = silber_df['normalisierter-verlustwert'].astype(\"float\").mean(axis=0)\n",
    "silber_df.fillna({'normalisierter-verlustwert': avg_normalisierter_verlustwert}, inplace=True)\n",
    "\n",
    "avg_bohrung = silber_df['bohrung'].astype('float').mean(axis=0)\n",
    "silber_df.fillna({'bohrung': avg_bohrung}, inplace=True)\n",
    "\n",
    "avg_anschlag = silber_df[\"anschlag\"].astype(\"float\").mean(axis = 0)\n",
    "silber_df.fillna({'anschlag': avg_anschlag}, inplace=True)\n",
    "\n",
    "avg_pferdestaerken = silber_df['pferdestärken'].astype('float').mean(axis=0)\n",
    "silber_df.fillna({'pferdestärken': avg_pferdestaerken}, inplace=True)\n",
    "\n",
    "avg_spitzendrehzahl = silber_df['spitzendrehzahl'].astype('float').mean(axis=0)\n",
    "silber_df.fillna({'spitzendrehzahl': avg_spitzendrehzahl}, inplace=True)"
   ],
   "metadata": {
    "collapsed": false,
    "ExecuteTime": {
     "end_time": "2024-02-29T15:41:43.616233500Z",
     "start_time": "2024-02-29T15:41:43.550044500Z"
    }
   },
   "id": "a8cd9e52ce0bc1ff"
  },
  {
   "cell_type": "code",
   "execution_count": 6,
   "outputs": [
    {
     "name": "stdout",
     "output_type": "stream",
     "text": [
      "four\n"
     ]
    }
   ],
   "source": [
    "# Ersetzen durch Häufigkeit:\n",
    "\n",
    "max_tuernummern = silber_df['türnummern'].value_counts().idxmax()\n",
    "print(max_tuernummern)\n",
    "silber_df['türnummern'].replace(np.nan, max_tuernummern, inplace=True)"
   ],
   "metadata": {
    "collapsed": false,
    "ExecuteTime": {
     "end_time": "2024-02-29T15:41:43.729230400Z",
     "start_time": "2024-02-29T15:41:43.580390800Z"
    }
   },
   "id": "608f34ef0bf463fe"
  },
  {
   "cell_type": "code",
   "execution_count": 7,
   "outputs": [],
   "source": [
    "# Streiche die ganze Zeile\n",
    "silber_df.dropna(subset=['preis'], axis=0, inplace=True)\n",
    "silber_df.reset_index(drop=True, inplace=True)"
   ],
   "metadata": {
    "collapsed": false,
    "ExecuteTime": {
     "end_time": "2024-02-29T15:41:43.792014700Z",
     "start_time": "2024-02-29T15:41:43.608112700Z"
    }
   },
   "id": "5cd5c8059bdbbe9"
  },
  {
   "cell_type": "markdown",
   "source": [
    "### Korrektur des Datenformats"
   ],
   "metadata": {
    "collapsed": false
   },
   "id": "166b30ac88c03491"
  },
  {
   "cell_type": "code",
   "execution_count": 8,
   "outputs": [
    {
     "data": {
      "text/plain": "risikoniveau                    int64\nnormalisierter-verlustwert     object\nmarke                          object\nkraftstofftyp                  object\nabsaugung                      object\ntürnummern                     object\nkörperform                     object\nantriebsräder                  object\nmotorstandort                  object\nradstand                      float64\nlänge                         float64\nbreite                        float64\nhöhe                          float64\nleergewicht                     int64\nmotortyp                       object\nanzahl-der-zylinder            object\nmotorgröße                      int64\nkraftstoffsystem               object\nbohrung                        object\nanschlag                       object\nverdichtungsverhältnis        float64\npferdestärken                  object\nspitzendrehzahl                object\nstadt-mpg                       int64\nautobahn-mpg                    int64\npreis                          object\ndtype: object"
     },
     "metadata": {},
     "output_type": "display_data"
    }
   ],
   "source": [
    "display(silber_df.dtypes)"
   ],
   "metadata": {
    "collapsed": false,
    "ExecuteTime": {
     "end_time": "2024-02-29T15:41:43.795422400Z",
     "start_time": "2024-02-29T15:41:43.628689700Z"
    }
   },
   "id": "37a934c25c44cef5"
  },
  {
   "cell_type": "markdown",
   "source": [
    "Wie wir oben sehen können, haben einige Spalten nicht den richtigen Datentyp. Numerische Variablen sollten den Typ \"float\" oder \"int\" haben, und Variablen mit Zeichenketten wie Kategorien sollten den Typ \"object\" haben. Bei den Variablen \"Bohrung\" und \"Hub\" handelt es sich beispielsweise um numerische Werte, die die Motoren beschreiben, so dass man erwarten sollte, dass sie vom Typ \"float\" oder \"int\" sind; sie werden jedoch als Typ \"object\" angezeigt."
   ],
   "metadata": {
    "collapsed": false
   },
   "id": "3f451a478e78c9b"
  },
  {
   "cell_type": "code",
   "execution_count": 9,
   "outputs": [],
   "source": [
    "silber_df[['bohrung', 'anschlag']] = silber_df[['bohrung', 'anschlag']].astype(\"float\")\n",
    "silber_df['normalisierter-verlustwert'] = silber_df['normalisierter-verlustwert'].astype(\"int64\")\n",
    "silber_df['preis'] = silber_df['preis'].astype(\"float\")\n",
    "silber_df['spitzendrehzahl'] = silber_df['spitzendrehzahl'].astype(\"float\")\n",
    "silber_df['pferdestärken'] = silber_df['pferdestärken'].astype(\"int64\", copy=True)"
   ],
   "metadata": {
    "collapsed": false,
    "ExecuteTime": {
     "end_time": "2024-02-29T15:41:43.838487600Z",
     "start_time": "2024-02-29T15:41:43.645385100Z"
    }
   },
   "id": "4baa91d7d296c5aa"
  },
  {
   "cell_type": "markdown",
   "source": [
    "### Data Standardization\n",
    "\n",
    "Umwandlung von mpg in L/100km:\n",
    "\n",
    "In unserem Datensatz werden die Kraftstoffverbrauchsspalten \"Stadt-mpg\" und \"Autobahn-mpg\" in der Einheit mpg (miles per gallon) dargestellt. Angenommen, wir entwickeln eine Anwendung in einem Land, in dem der Kraftstoffverbrauch in L/100km angegeben wird.\n",
    "\n",
    "Die Formel für die Einheitenumrechnung lautet\n",
    "\n",
    "L/100km = 235 / mpg"
   ],
   "metadata": {
    "collapsed": false
   },
   "id": "e1252c75f4160459"
  },
  {
   "cell_type": "code",
   "execution_count": 10,
   "outputs": [],
   "source": [
    "silber_df['stadt-L/100km'] = 235/silber_df['stadt-mpg']\n",
    "silber_df['autobahn-L/100km'] = 235/silber_df['autobahn-mpg']"
   ],
   "metadata": {
    "collapsed": false,
    "ExecuteTime": {
     "end_time": "2024-02-29T15:41:43.851670Z",
     "start_time": "2024-02-29T15:41:43.662044300Z"
    }
   },
   "id": "8032029eb97ee1b1"
  },
  {
   "cell_type": "markdown",
   "source": [
    "### Data Normalization\n",
    "\n",
    "Unter Normalisierung versteht man den Prozess der Umwandlung von Werten mehrerer Variablen in einen ähnlichen Bereich. Typische Normalisierungen umfassen die Skalierung der Variablen, so dass der Durchschnitt der Variablen 0 ist, die Skalierung der Variablen, so dass die Varianz 1 ist, oder die Skalierung der Variablen, so dass die Variablenwerte zwischen 0 und 1 liegen."
   ],
   "metadata": {
    "collapsed": false
   },
   "id": "6dbbcf9f39b0057d"
  },
  {
   "cell_type": "code",
   "execution_count": 11,
   "outputs": [
    {
     "data": {
      "text/plain": "   länge-norm  breite-norm  höhe-norm\n0    0.811148     0.890278   0.816054\n1    0.811148     0.890278   0.816054\n2    0.822681     0.909722   0.876254\n3    0.848630     0.919444   0.908027\n4    0.848630     0.922222   0.908027",
      "text/html": "<div>\n<style scoped>\n    .dataframe tbody tr th:only-of-type {\n        vertical-align: middle;\n    }\n\n    .dataframe tbody tr th {\n        vertical-align: top;\n    }\n\n    .dataframe thead th {\n        text-align: right;\n    }\n</style>\n<table border=\"1\" class=\"dataframe\">\n  <thead>\n    <tr style=\"text-align: right;\">\n      <th></th>\n      <th>länge-norm</th>\n      <th>breite-norm</th>\n      <th>höhe-norm</th>\n    </tr>\n  </thead>\n  <tbody>\n    <tr>\n      <th>0</th>\n      <td>0.811148</td>\n      <td>0.890278</td>\n      <td>0.816054</td>\n    </tr>\n    <tr>\n      <th>1</th>\n      <td>0.811148</td>\n      <td>0.890278</td>\n      <td>0.816054</td>\n    </tr>\n    <tr>\n      <th>2</th>\n      <td>0.822681</td>\n      <td>0.909722</td>\n      <td>0.876254</td>\n    </tr>\n    <tr>\n      <th>3</th>\n      <td>0.848630</td>\n      <td>0.919444</td>\n      <td>0.908027</td>\n    </tr>\n    <tr>\n      <th>4</th>\n      <td>0.848630</td>\n      <td>0.922222</td>\n      <td>0.908027</td>\n    </tr>\n  </tbody>\n</table>\n</div>"
     },
     "metadata": {},
     "output_type": "display_data"
    }
   ],
   "source": [
    "silber_df['länge-norm'] = silber_df['länge'] / silber_df['länge'].max()\n",
    "silber_df['breite-norm'] = silber_df['breite'] / silber_df['breite'].max()\n",
    "silber_df['höhe-norm'] = silber_df['höhe'] / silber_df['höhe'].max()\n",
    "\n",
    "display(silber_df[['länge-norm','breite-norm','höhe-norm']].head())"
   ],
   "metadata": {
    "collapsed": false,
    "ExecuteTime": {
     "end_time": "2024-02-29T15:41:43.855718300Z",
     "start_time": "2024-02-29T15:41:43.671346400Z"
    }
   },
   "id": "d28c3564650ff7ce"
  },
  {
   "cell_type": "markdown",
   "source": [
    "### Binning\n",
    "\n",
    "Binning ist ein Verfahren zur Umwandlung kontinuierlicher numerischer Variablen in diskrete kategorische \"Bins\" für eine gruppierte Analyse."
   ],
   "metadata": {
    "collapsed": false
   },
   "id": "e9384f3b9d861544"
  },
  {
   "cell_type": "code",
   "execution_count": 12,
   "outputs": [
    {
     "data": {
      "text/plain": "    pferdestärken pferdestärken-binned\n0             111              niedrig\n1             111              niedrig\n2             154               mittel\n3             102              niedrig\n4             115              niedrig\n5             110              niedrig\n6             110              niedrig\n7             110              niedrig\n8             140               mittel\n9             101              niedrig\n10            101              niedrig\n11            121               mittel\n12            121               mittel\n13            121               mittel\n14            182               mittel\n15            182               mittel\n16            182               mittel\n17             48              niedrig\n18             70              niedrig\n19             70              niedrig",
      "text/html": "<div>\n<style scoped>\n    .dataframe tbody tr th:only-of-type {\n        vertical-align: middle;\n    }\n\n    .dataframe tbody tr th {\n        vertical-align: top;\n    }\n\n    .dataframe thead th {\n        text-align: right;\n    }\n</style>\n<table border=\"1\" class=\"dataframe\">\n  <thead>\n    <tr style=\"text-align: right;\">\n      <th></th>\n      <th>pferdestärken</th>\n      <th>pferdestärken-binned</th>\n    </tr>\n  </thead>\n  <tbody>\n    <tr>\n      <th>0</th>\n      <td>111</td>\n      <td>niedrig</td>\n    </tr>\n    <tr>\n      <th>1</th>\n      <td>111</td>\n      <td>niedrig</td>\n    </tr>\n    <tr>\n      <th>2</th>\n      <td>154</td>\n      <td>mittel</td>\n    </tr>\n    <tr>\n      <th>3</th>\n      <td>102</td>\n      <td>niedrig</td>\n    </tr>\n    <tr>\n      <th>4</th>\n      <td>115</td>\n      <td>niedrig</td>\n    </tr>\n    <tr>\n      <th>5</th>\n      <td>110</td>\n      <td>niedrig</td>\n    </tr>\n    <tr>\n      <th>6</th>\n      <td>110</td>\n      <td>niedrig</td>\n    </tr>\n    <tr>\n      <th>7</th>\n      <td>110</td>\n      <td>niedrig</td>\n    </tr>\n    <tr>\n      <th>8</th>\n      <td>140</td>\n      <td>mittel</td>\n    </tr>\n    <tr>\n      <th>9</th>\n      <td>101</td>\n      <td>niedrig</td>\n    </tr>\n    <tr>\n      <th>10</th>\n      <td>101</td>\n      <td>niedrig</td>\n    </tr>\n    <tr>\n      <th>11</th>\n      <td>121</td>\n      <td>mittel</td>\n    </tr>\n    <tr>\n      <th>12</th>\n      <td>121</td>\n      <td>mittel</td>\n    </tr>\n    <tr>\n      <th>13</th>\n      <td>121</td>\n      <td>mittel</td>\n    </tr>\n    <tr>\n      <th>14</th>\n      <td>182</td>\n      <td>mittel</td>\n    </tr>\n    <tr>\n      <th>15</th>\n      <td>182</td>\n      <td>mittel</td>\n    </tr>\n    <tr>\n      <th>16</th>\n      <td>182</td>\n      <td>mittel</td>\n    </tr>\n    <tr>\n      <th>17</th>\n      <td>48</td>\n      <td>niedrig</td>\n    </tr>\n    <tr>\n      <th>18</th>\n      <td>70</td>\n      <td>niedrig</td>\n    </tr>\n    <tr>\n      <th>19</th>\n      <td>70</td>\n      <td>niedrig</td>\n    </tr>\n  </tbody>\n</table>\n</div>"
     },
     "metadata": {},
     "output_type": "display_data"
    }
   ],
   "source": [
    "bins = np.linspace(min(silber_df['pferdestärken']), max(silber_df['pferdestärken']), 4)\n",
    "gruppen_namen = ['niedrig', 'mittel', 'hoch']\n",
    "silber_df['pferdestärken-binned'] = pd.cut(silber_df['pferdestärken'], bins, labels=gruppen_namen, include_lowest=True )\n",
    "# silber_df['pferdestärken-binned'] = pd.qcut(silber_df['pferdestärken'], 3, labels=['niedrig', 'mittel', 'hoch'])\n",
    "display(silber_df[['pferdestärken','pferdestärken-binned']].head(20))"
   ],
   "metadata": {
    "collapsed": false,
    "ExecuteTime": {
     "end_time": "2024-02-29T15:41:43.860261800Z",
     "start_time": "2024-02-29T15:41:43.699713200Z"
    }
   },
   "id": "a20382bf09286a8f"
  },
  {
   "cell_type": "markdown",
   "source": [
    "### Indikatorvariable (oder Dummy-Variable)"
   ],
   "metadata": {
    "collapsed": false
   },
   "id": "9abb7d4cdf10c86"
  },
  {
   "cell_type": "code",
   "execution_count": 13,
   "outputs": [],
   "source": [
    "dummy = pd.get_dummies(silber_df['kraftstofftyp'])\n",
    "silber_df = pd.concat([silber_df, dummy], axis=1)\n",
    "silber_df.rename(columns={'gas': 'benzin'}, inplace=True)"
   ],
   "metadata": {
    "collapsed": false,
    "ExecuteTime": {
     "end_time": "2024-02-29T15:41:44.064223500Z",
     "start_time": "2024-02-29T15:41:43.726990100Z"
    }
   },
   "id": "e423a51e011ae690"
  },
  {
   "cell_type": "markdown",
   "source": [
    "### export als Parquet"
   ],
   "metadata": {
    "collapsed": false
   },
   "id": "b7c3aed05aefc65c"
  },
  {
   "cell_type": "code",
   "execution_count": 14,
   "outputs": [
    {
     "data": {
      "text/plain": "     risikoniveau  normalisierter-verlustwert        marke kraftstofftyp  \\\n0               3                         122  alfa-romero           gas   \n1               3                         122  alfa-romero           gas   \n2               1                         122  alfa-romero           gas   \n3               2                         164         audi           gas   \n4               2                         164         audi           gas   \n..            ...                         ...          ...           ...   \n196            -1                          95        volvo           gas   \n197            -1                          95        volvo           gas   \n198            -1                          95        volvo           gas   \n199            -1                          95        volvo        diesel   \n200            -1                          95        volvo           gas   \n\n    absaugung türnummern   körperform antriebsräder motorstandort  radstand  \\\n0         std        two  convertible           rwd         front      88.6   \n1         std        two  convertible           rwd         front      88.6   \n2         std        two    hatchback           rwd         front      94.5   \n3         std       four        sedan           fwd         front      99.8   \n4         std       four        sedan           4wd         front      99.4   \n..        ...        ...          ...           ...           ...       ...   \n196       std       four        sedan           rwd         front     109.1   \n197     turbo       four        sedan           rwd         front     109.1   \n198       std       four        sedan           rwd         front     109.1   \n199     turbo       four        sedan           rwd         front     109.1   \n200     turbo       four        sedan           rwd         front     109.1   \n\n     ...  autobahn-mpg    preis  stadt-L/100km  autobahn-L/100km länge-norm  \\\n0    ...            27  13495.0      11.190476          8.703704   0.811148   \n1    ...            27  16500.0      11.190476          8.703704   0.811148   \n2    ...            26  16500.0      12.368421          9.038462   0.822681   \n3    ...            30  13950.0       9.791667          7.833333   0.848630   \n4    ...            22  17450.0      13.055556         10.681818   0.848630   \n..   ...           ...      ...            ...               ...        ...   \n196  ...            28  16845.0      10.217391          8.392857   0.907256   \n197  ...            25  19045.0      12.368421          9.400000   0.907256   \n198  ...            23  21485.0      13.055556         10.217391   0.907256   \n199  ...            27  22470.0       9.038462          8.703704   0.907256   \n200  ...            25  22625.0      12.368421          9.400000   0.907256   \n\n    breite-norm  höhe-norm pferdestärken-binned  diesel  benzin  \n0      0.890278   0.816054              niedrig   False    True  \n1      0.890278   0.816054              niedrig   False    True  \n2      0.909722   0.876254               mittel   False    True  \n3      0.919444   0.908027              niedrig   False    True  \n4      0.922222   0.908027              niedrig   False    True  \n..          ...        ...                  ...     ...     ...  \n196    0.956944   0.928094              niedrig   False    True  \n197    0.955556   0.928094               mittel   False    True  \n198    0.956944   0.928094               mittel   False    True  \n199    0.956944   0.928094              niedrig    True   False  \n200    0.956944   0.928094              niedrig   False    True  \n\n[201 rows x 34 columns]",
      "text/html": "<div>\n<style scoped>\n    .dataframe tbody tr th:only-of-type {\n        vertical-align: middle;\n    }\n\n    .dataframe tbody tr th {\n        vertical-align: top;\n    }\n\n    .dataframe thead th {\n        text-align: right;\n    }\n</style>\n<table border=\"1\" class=\"dataframe\">\n  <thead>\n    <tr style=\"text-align: right;\">\n      <th></th>\n      <th>risikoniveau</th>\n      <th>normalisierter-verlustwert</th>\n      <th>marke</th>\n      <th>kraftstofftyp</th>\n      <th>absaugung</th>\n      <th>türnummern</th>\n      <th>körperform</th>\n      <th>antriebsräder</th>\n      <th>motorstandort</th>\n      <th>radstand</th>\n      <th>...</th>\n      <th>autobahn-mpg</th>\n      <th>preis</th>\n      <th>stadt-L/100km</th>\n      <th>autobahn-L/100km</th>\n      <th>länge-norm</th>\n      <th>breite-norm</th>\n      <th>höhe-norm</th>\n      <th>pferdestärken-binned</th>\n      <th>diesel</th>\n      <th>benzin</th>\n    </tr>\n  </thead>\n  <tbody>\n    <tr>\n      <th>0</th>\n      <td>3</td>\n      <td>122</td>\n      <td>alfa-romero</td>\n      <td>gas</td>\n      <td>std</td>\n      <td>two</td>\n      <td>convertible</td>\n      <td>rwd</td>\n      <td>front</td>\n      <td>88.6</td>\n      <td>...</td>\n      <td>27</td>\n      <td>13495.0</td>\n      <td>11.190476</td>\n      <td>8.703704</td>\n      <td>0.811148</td>\n      <td>0.890278</td>\n      <td>0.816054</td>\n      <td>niedrig</td>\n      <td>False</td>\n      <td>True</td>\n    </tr>\n    <tr>\n      <th>1</th>\n      <td>3</td>\n      <td>122</td>\n      <td>alfa-romero</td>\n      <td>gas</td>\n      <td>std</td>\n      <td>two</td>\n      <td>convertible</td>\n      <td>rwd</td>\n      <td>front</td>\n      <td>88.6</td>\n      <td>...</td>\n      <td>27</td>\n      <td>16500.0</td>\n      <td>11.190476</td>\n      <td>8.703704</td>\n      <td>0.811148</td>\n      <td>0.890278</td>\n      <td>0.816054</td>\n      <td>niedrig</td>\n      <td>False</td>\n      <td>True</td>\n    </tr>\n    <tr>\n      <th>2</th>\n      <td>1</td>\n      <td>122</td>\n      <td>alfa-romero</td>\n      <td>gas</td>\n      <td>std</td>\n      <td>two</td>\n      <td>hatchback</td>\n      <td>rwd</td>\n      <td>front</td>\n      <td>94.5</td>\n      <td>...</td>\n      <td>26</td>\n      <td>16500.0</td>\n      <td>12.368421</td>\n      <td>9.038462</td>\n      <td>0.822681</td>\n      <td>0.909722</td>\n      <td>0.876254</td>\n      <td>mittel</td>\n      <td>False</td>\n      <td>True</td>\n    </tr>\n    <tr>\n      <th>3</th>\n      <td>2</td>\n      <td>164</td>\n      <td>audi</td>\n      <td>gas</td>\n      <td>std</td>\n      <td>four</td>\n      <td>sedan</td>\n      <td>fwd</td>\n      <td>front</td>\n      <td>99.8</td>\n      <td>...</td>\n      <td>30</td>\n      <td>13950.0</td>\n      <td>9.791667</td>\n      <td>7.833333</td>\n      <td>0.848630</td>\n      <td>0.919444</td>\n      <td>0.908027</td>\n      <td>niedrig</td>\n      <td>False</td>\n      <td>True</td>\n    </tr>\n    <tr>\n      <th>4</th>\n      <td>2</td>\n      <td>164</td>\n      <td>audi</td>\n      <td>gas</td>\n      <td>std</td>\n      <td>four</td>\n      <td>sedan</td>\n      <td>4wd</td>\n      <td>front</td>\n      <td>99.4</td>\n      <td>...</td>\n      <td>22</td>\n      <td>17450.0</td>\n      <td>13.055556</td>\n      <td>10.681818</td>\n      <td>0.848630</td>\n      <td>0.922222</td>\n      <td>0.908027</td>\n      <td>niedrig</td>\n      <td>False</td>\n      <td>True</td>\n    </tr>\n    <tr>\n      <th>...</th>\n      <td>...</td>\n      <td>...</td>\n      <td>...</td>\n      <td>...</td>\n      <td>...</td>\n      <td>...</td>\n      <td>...</td>\n      <td>...</td>\n      <td>...</td>\n      <td>...</td>\n      <td>...</td>\n      <td>...</td>\n      <td>...</td>\n      <td>...</td>\n      <td>...</td>\n      <td>...</td>\n      <td>...</td>\n      <td>...</td>\n      <td>...</td>\n      <td>...</td>\n      <td>...</td>\n    </tr>\n    <tr>\n      <th>196</th>\n      <td>-1</td>\n      <td>95</td>\n      <td>volvo</td>\n      <td>gas</td>\n      <td>std</td>\n      <td>four</td>\n      <td>sedan</td>\n      <td>rwd</td>\n      <td>front</td>\n      <td>109.1</td>\n      <td>...</td>\n      <td>28</td>\n      <td>16845.0</td>\n      <td>10.217391</td>\n      <td>8.392857</td>\n      <td>0.907256</td>\n      <td>0.956944</td>\n      <td>0.928094</td>\n      <td>niedrig</td>\n      <td>False</td>\n      <td>True</td>\n    </tr>\n    <tr>\n      <th>197</th>\n      <td>-1</td>\n      <td>95</td>\n      <td>volvo</td>\n      <td>gas</td>\n      <td>turbo</td>\n      <td>four</td>\n      <td>sedan</td>\n      <td>rwd</td>\n      <td>front</td>\n      <td>109.1</td>\n      <td>...</td>\n      <td>25</td>\n      <td>19045.0</td>\n      <td>12.368421</td>\n      <td>9.400000</td>\n      <td>0.907256</td>\n      <td>0.955556</td>\n      <td>0.928094</td>\n      <td>mittel</td>\n      <td>False</td>\n      <td>True</td>\n    </tr>\n    <tr>\n      <th>198</th>\n      <td>-1</td>\n      <td>95</td>\n      <td>volvo</td>\n      <td>gas</td>\n      <td>std</td>\n      <td>four</td>\n      <td>sedan</td>\n      <td>rwd</td>\n      <td>front</td>\n      <td>109.1</td>\n      <td>...</td>\n      <td>23</td>\n      <td>21485.0</td>\n      <td>13.055556</td>\n      <td>10.217391</td>\n      <td>0.907256</td>\n      <td>0.956944</td>\n      <td>0.928094</td>\n      <td>mittel</td>\n      <td>False</td>\n      <td>True</td>\n    </tr>\n    <tr>\n      <th>199</th>\n      <td>-1</td>\n      <td>95</td>\n      <td>volvo</td>\n      <td>diesel</td>\n      <td>turbo</td>\n      <td>four</td>\n      <td>sedan</td>\n      <td>rwd</td>\n      <td>front</td>\n      <td>109.1</td>\n      <td>...</td>\n      <td>27</td>\n      <td>22470.0</td>\n      <td>9.038462</td>\n      <td>8.703704</td>\n      <td>0.907256</td>\n      <td>0.956944</td>\n      <td>0.928094</td>\n      <td>niedrig</td>\n      <td>True</td>\n      <td>False</td>\n    </tr>\n    <tr>\n      <th>200</th>\n      <td>-1</td>\n      <td>95</td>\n      <td>volvo</td>\n      <td>gas</td>\n      <td>turbo</td>\n      <td>four</td>\n      <td>sedan</td>\n      <td>rwd</td>\n      <td>front</td>\n      <td>109.1</td>\n      <td>...</td>\n      <td>25</td>\n      <td>22625.0</td>\n      <td>12.368421</td>\n      <td>9.400000</td>\n      <td>0.907256</td>\n      <td>0.956944</td>\n      <td>0.928094</td>\n      <td>niedrig</td>\n      <td>False</td>\n      <td>True</td>\n    </tr>\n  </tbody>\n</table>\n<p>201 rows × 34 columns</p>\n</div>"
     },
     "metadata": {},
     "output_type": "display_data"
    },
    {
     "name": "stdout",
     "output_type": "stream",
     "text": [
      "Index(['risikoniveau', 'normalisierter-verlustwert', 'marke', 'kraftstofftyp',\n",
      "       'absaugung', 'türnummern', 'körperform', 'antriebsräder',\n",
      "       'motorstandort', 'radstand', 'länge', 'breite', 'höhe', 'leergewicht',\n",
      "       'motortyp', 'anzahl-der-zylinder', 'motorgröße', 'kraftstoffsystem',\n",
      "       'bohrung', 'anschlag', 'verdichtungsverhältnis', 'pferdestärken',\n",
      "       'spitzendrehzahl', 'stadt-mpg', 'autobahn-mpg', 'preis',\n",
      "       'stadt-L/100km', 'autobahn-L/100km', 'länge-norm', 'breite-norm',\n",
      "       'höhe-norm', 'pferdestärken-binned', 'diesel', 'benzin'],\n",
      "      dtype='object')\n"
     ]
    }
   ],
   "source": [
    "parquet_file_path = os.path.join('.', 'silber')\n",
    "parquet_file_name = 'auto_silber.parquet'\n",
    "\n",
    "if not os.path.exists(parquet_file_path):\n",
    "    os.mkdir(parquet_file_path)\n",
    "\n",
    "silber_df.to_parquet(os.path.join(parquet_file_path, parquet_file_name))\n",
    "display(silber_df)\n",
    "print(silber_df.columns)"
   ],
   "metadata": {
    "collapsed": false,
    "ExecuteTime": {
     "end_time": "2024-02-29T15:41:44.428331200Z",
     "start_time": "2024-02-29T15:41:43.753420200Z"
    }
   },
   "id": "f1be13374aa5b80d"
  },
  {
   "cell_type": "markdown",
   "source": [],
   "metadata": {
    "collapsed": false
   },
   "id": "1cab9b3759c8b31b"
  }
 ],
 "metadata": {
  "kernelspec": {
   "display_name": "Python 3",
   "language": "python",
   "name": "python3"
  },
  "language_info": {
   "codemirror_mode": {
    "name": "ipython",
    "version": 2
   },
   "file_extension": ".py",
   "mimetype": "text/x-python",
   "name": "python",
   "nbconvert_exporter": "python",
   "pygments_lexer": "ipython2",
   "version": "2.7.6"
  }
 },
 "nbformat": 4,
 "nbformat_minor": 5
}
