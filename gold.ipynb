{
 "cells": [
  {
   "cell_type": "code",
   "execution_count": 6,
   "id": "initial_id",
   "metadata": {
    "collapsed": true,
    "ExecuteTime": {
     "end_time": "2024-02-29T15:09:58.626650300Z",
     "start_time": "2024-02-29T15:09:58.498762700Z"
    }
   },
   "outputs": [],
   "source": [
    "import pandas as pd\n",
    "import os"
   ]
  },
  {
   "cell_type": "markdown",
   "source": [
    "## Gold Schicht"
   ],
   "metadata": {
    "collapsed": false
   },
   "id": "73c424f693ff68ca"
  },
  {
   "cell_type": "code",
   "execution_count": 7,
   "outputs": [],
   "source": [
    "silber_df = pd.read_parquet('silber/auto_silber.parquet')\n",
    "\n",
    "def safe_gold_usecase(silber_df, columns, usecase_name):\n",
    "    parquet_file_path = os.path.join('.', 'gold')\n",
    "    parquet_file_name = f'auto_{usecase_name}.parquet'\n",
    "    \n",
    "    if not os.path.exists(parquet_file_path):\n",
    "        os.mkdir(parquet_file_path)\n",
    "        \n",
    "    gold_df = silber_df[columns].copy()\n",
    "    gold_df.to_parquet(os.path.join(parquet_file_path, parquet_file_name))\n",
    "    display(gold_df)"
   ],
   "metadata": {
    "collapsed": false,
    "ExecuteTime": {
     "end_time": "2024-02-29T15:09:58.685708600Z",
     "start_time": "2024-02-29T15:09:58.516542400Z"
    }
   },
   "id": "d9d81962c20e14ef"
  },
  {
   "cell_type": "markdown",
   "source": [
    "### Kraftstoffeffizienzvorhersage\n",
    "Basierend auf den Merkmalen welche eine Vorhersage über die Kraftstoffeffizienz eines Fahrzeugs erstellt werden."
   ],
   "metadata": {
    "collapsed": false
   },
   "id": "1d62cc4050aaa7e5"
  },
  {
   "cell_type": "code",
   "execution_count": 8,
   "outputs": [
    {
     "data": {
      "text/plain": "     motorgröße kraftstoffsystem  bohrung  anschlag  verdichtungsverhältnis  \\\n0           130             mpfi     3.47      2.68                     9.0   \n1           130             mpfi     3.47      2.68                     9.0   \n2           152             mpfi     2.68      3.47                     9.0   \n3           109             mpfi     3.19      3.40                    10.0   \n4           136             mpfi     3.19      3.40                     8.0   \n..          ...              ...      ...       ...                     ...   \n196         141             mpfi     3.78      3.15                     9.5   \n197         141             mpfi     3.78      3.15                     8.7   \n198         173             mpfi     3.58      2.87                     8.8   \n199         145              idi     3.01      3.40                    23.0   \n200         141             mpfi     3.78      3.15                     9.5   \n\n     leergewicht  pferdestärken  spitzendrehzahl  stadt-L/100km  \\\n0           2548            111           5000.0      11.190476   \n1           2548            111           5000.0      11.190476   \n2           2823            154           5000.0      12.368421   \n3           2337            102           5500.0       9.791667   \n4           2824            115           5500.0      13.055556   \n..           ...            ...              ...            ...   \n196         2952            114           5400.0      10.217391   \n197         3049            160           5300.0      12.368421   \n198         3012            134           5500.0      13.055556   \n199         3217            106           4800.0       9.038462   \n200         3062            114           5400.0      12.368421   \n\n     autobahn-L/100km pferdestärken-binned  diesel  benzin  \n0            8.703704              niedrig   False    True  \n1            8.703704              niedrig   False    True  \n2            9.038462               mittel   False    True  \n3            7.833333              niedrig   False    True  \n4           10.681818              niedrig   False    True  \n..                ...                  ...     ...     ...  \n196          8.392857              niedrig   False    True  \n197          9.400000               mittel   False    True  \n198         10.217391               mittel   False    True  \n199          8.703704              niedrig    True   False  \n200          9.400000              niedrig   False    True  \n\n[201 rows x 13 columns]",
      "text/html": "<div>\n<style scoped>\n    .dataframe tbody tr th:only-of-type {\n        vertical-align: middle;\n    }\n\n    .dataframe tbody tr th {\n        vertical-align: top;\n    }\n\n    .dataframe thead th {\n        text-align: right;\n    }\n</style>\n<table border=\"1\" class=\"dataframe\">\n  <thead>\n    <tr style=\"text-align: right;\">\n      <th></th>\n      <th>motorgröße</th>\n      <th>kraftstoffsystem</th>\n      <th>bohrung</th>\n      <th>anschlag</th>\n      <th>verdichtungsverhältnis</th>\n      <th>leergewicht</th>\n      <th>pferdestärken</th>\n      <th>spitzendrehzahl</th>\n      <th>stadt-L/100km</th>\n      <th>autobahn-L/100km</th>\n      <th>pferdestärken-binned</th>\n      <th>diesel</th>\n      <th>benzin</th>\n    </tr>\n  </thead>\n  <tbody>\n    <tr>\n      <th>0</th>\n      <td>130</td>\n      <td>mpfi</td>\n      <td>3.47</td>\n      <td>2.68</td>\n      <td>9.0</td>\n      <td>2548</td>\n      <td>111</td>\n      <td>5000.0</td>\n      <td>11.190476</td>\n      <td>8.703704</td>\n      <td>niedrig</td>\n      <td>False</td>\n      <td>True</td>\n    </tr>\n    <tr>\n      <th>1</th>\n      <td>130</td>\n      <td>mpfi</td>\n      <td>3.47</td>\n      <td>2.68</td>\n      <td>9.0</td>\n      <td>2548</td>\n      <td>111</td>\n      <td>5000.0</td>\n      <td>11.190476</td>\n      <td>8.703704</td>\n      <td>niedrig</td>\n      <td>False</td>\n      <td>True</td>\n    </tr>\n    <tr>\n      <th>2</th>\n      <td>152</td>\n      <td>mpfi</td>\n      <td>2.68</td>\n      <td>3.47</td>\n      <td>9.0</td>\n      <td>2823</td>\n      <td>154</td>\n      <td>5000.0</td>\n      <td>12.368421</td>\n      <td>9.038462</td>\n      <td>mittel</td>\n      <td>False</td>\n      <td>True</td>\n    </tr>\n    <tr>\n      <th>3</th>\n      <td>109</td>\n      <td>mpfi</td>\n      <td>3.19</td>\n      <td>3.40</td>\n      <td>10.0</td>\n      <td>2337</td>\n      <td>102</td>\n      <td>5500.0</td>\n      <td>9.791667</td>\n      <td>7.833333</td>\n      <td>niedrig</td>\n      <td>False</td>\n      <td>True</td>\n    </tr>\n    <tr>\n      <th>4</th>\n      <td>136</td>\n      <td>mpfi</td>\n      <td>3.19</td>\n      <td>3.40</td>\n      <td>8.0</td>\n      <td>2824</td>\n      <td>115</td>\n      <td>5500.0</td>\n      <td>13.055556</td>\n      <td>10.681818</td>\n      <td>niedrig</td>\n      <td>False</td>\n      <td>True</td>\n    </tr>\n    <tr>\n      <th>...</th>\n      <td>...</td>\n      <td>...</td>\n      <td>...</td>\n      <td>...</td>\n      <td>...</td>\n      <td>...</td>\n      <td>...</td>\n      <td>...</td>\n      <td>...</td>\n      <td>...</td>\n      <td>...</td>\n      <td>...</td>\n      <td>...</td>\n    </tr>\n    <tr>\n      <th>196</th>\n      <td>141</td>\n      <td>mpfi</td>\n      <td>3.78</td>\n      <td>3.15</td>\n      <td>9.5</td>\n      <td>2952</td>\n      <td>114</td>\n      <td>5400.0</td>\n      <td>10.217391</td>\n      <td>8.392857</td>\n      <td>niedrig</td>\n      <td>False</td>\n      <td>True</td>\n    </tr>\n    <tr>\n      <th>197</th>\n      <td>141</td>\n      <td>mpfi</td>\n      <td>3.78</td>\n      <td>3.15</td>\n      <td>8.7</td>\n      <td>3049</td>\n      <td>160</td>\n      <td>5300.0</td>\n      <td>12.368421</td>\n      <td>9.400000</td>\n      <td>mittel</td>\n      <td>False</td>\n      <td>True</td>\n    </tr>\n    <tr>\n      <th>198</th>\n      <td>173</td>\n      <td>mpfi</td>\n      <td>3.58</td>\n      <td>2.87</td>\n      <td>8.8</td>\n      <td>3012</td>\n      <td>134</td>\n      <td>5500.0</td>\n      <td>13.055556</td>\n      <td>10.217391</td>\n      <td>mittel</td>\n      <td>False</td>\n      <td>True</td>\n    </tr>\n    <tr>\n      <th>199</th>\n      <td>145</td>\n      <td>idi</td>\n      <td>3.01</td>\n      <td>3.40</td>\n      <td>23.0</td>\n      <td>3217</td>\n      <td>106</td>\n      <td>4800.0</td>\n      <td>9.038462</td>\n      <td>8.703704</td>\n      <td>niedrig</td>\n      <td>True</td>\n      <td>False</td>\n    </tr>\n    <tr>\n      <th>200</th>\n      <td>141</td>\n      <td>mpfi</td>\n      <td>3.78</td>\n      <td>3.15</td>\n      <td>9.5</td>\n      <td>3062</td>\n      <td>114</td>\n      <td>5400.0</td>\n      <td>12.368421</td>\n      <td>9.400000</td>\n      <td>niedrig</td>\n      <td>False</td>\n      <td>True</td>\n    </tr>\n  </tbody>\n</table>\n<p>201 rows × 13 columns</p>\n</div>"
     },
     "metadata": {},
     "output_type": "display_data"
    }
   ],
   "source": [
    "kraftstoffeffizienz_gold = ['motorgröße', 'kraftstoffsystem', 'bohrung', 'anschlag', 'verdichtungsverhältnis', 'leergewicht', 'pferdestärken', 'spitzendrehzahl', 'stadt-L/100km', 'autobahn-L/100km', 'pferdestärken-binned', 'diesel', 'benzin']\n",
    "\n",
    "safe_gold_usecase(silber_df, kraftstoffeffizienz_gold, 'kraftstoffeffizienz')"
   ],
   "metadata": {
    "collapsed": false,
    "ExecuteTime": {
     "end_time": "2024-02-29T15:09:58.719030100Z",
     "start_time": "2024-02-29T15:09:58.549826300Z"
    }
   },
   "id": "d773f33eb7c18da8"
  },
  {
   "cell_type": "markdown",
   "source": [
    "### Segmentierung von Fahrzeugen\n",
    "Basierend auf den Merkmalen welche Fahrzeuge in verschiedene Segmente eingeteilt werden (z.B. Kleinwagen, Limousinen, Geländewagen), was für Marketing- und Vertriebsstrategien relevant ist."
   ],
   "metadata": {
    "collapsed": false
   },
   "id": "845507e8eea495e7"
  },
  {
   "cell_type": "code",
   "execution_count": 9,
   "outputs": [
    {
     "data": {
      "text/plain": "           marke  normalisierter-verlustwert türnummern   körperform  \\\n0    alfa-romero                         122        two  convertible   \n1    alfa-romero                         122        two  convertible   \n2    alfa-romero                         122        two    hatchback   \n3           audi                         164       four        sedan   \n4           audi                         164       four        sedan   \n..           ...                         ...        ...          ...   \n196        volvo                          95       four        sedan   \n197        volvo                          95       four        sedan   \n198        volvo                          95       four        sedan   \n199        volvo                          95       four        sedan   \n200        volvo                          95       four        sedan   \n\n    antriebsräder motorstandort  radstand  länge  breite  höhe  leergewicht  \\\n0             rwd         front      88.6  168.8    64.1  48.8         2548   \n1             rwd         front      88.6  168.8    64.1  48.8         2548   \n2             rwd         front      94.5  171.2    65.5  52.4         2823   \n3             fwd         front      99.8  176.6    66.2  54.3         2337   \n4             4wd         front      99.4  176.6    66.4  54.3         2824   \n..            ...           ...       ...    ...     ...   ...          ...   \n196           rwd         front     109.1  188.8    68.9  55.5         2952   \n197           rwd         front     109.1  188.8    68.8  55.5         3049   \n198           rwd         front     109.1  188.8    68.9  55.5         3012   \n199           rwd         front     109.1  188.8    68.9  55.5         3217   \n200           rwd         front     109.1  188.8    68.9  55.5         3062   \n\n     länge-norm  breite-norm  höhe-norm  \n0      0.811148     0.890278   0.816054  \n1      0.811148     0.890278   0.816054  \n2      0.822681     0.909722   0.876254  \n3      0.848630     0.919444   0.908027  \n4      0.848630     0.922222   0.908027  \n..          ...          ...        ...  \n196    0.907256     0.956944   0.928094  \n197    0.907256     0.955556   0.928094  \n198    0.907256     0.956944   0.928094  \n199    0.907256     0.956944   0.928094  \n200    0.907256     0.956944   0.928094  \n\n[201 rows x 14 columns]",
      "text/html": "<div>\n<style scoped>\n    .dataframe tbody tr th:only-of-type {\n        vertical-align: middle;\n    }\n\n    .dataframe tbody tr th {\n        vertical-align: top;\n    }\n\n    .dataframe thead th {\n        text-align: right;\n    }\n</style>\n<table border=\"1\" class=\"dataframe\">\n  <thead>\n    <tr style=\"text-align: right;\">\n      <th></th>\n      <th>marke</th>\n      <th>normalisierter-verlustwert</th>\n      <th>türnummern</th>\n      <th>körperform</th>\n      <th>antriebsräder</th>\n      <th>motorstandort</th>\n      <th>radstand</th>\n      <th>länge</th>\n      <th>breite</th>\n      <th>höhe</th>\n      <th>leergewicht</th>\n      <th>länge-norm</th>\n      <th>breite-norm</th>\n      <th>höhe-norm</th>\n    </tr>\n  </thead>\n  <tbody>\n    <tr>\n      <th>0</th>\n      <td>alfa-romero</td>\n      <td>122</td>\n      <td>two</td>\n      <td>convertible</td>\n      <td>rwd</td>\n      <td>front</td>\n      <td>88.6</td>\n      <td>168.8</td>\n      <td>64.1</td>\n      <td>48.8</td>\n      <td>2548</td>\n      <td>0.811148</td>\n      <td>0.890278</td>\n      <td>0.816054</td>\n    </tr>\n    <tr>\n      <th>1</th>\n      <td>alfa-romero</td>\n      <td>122</td>\n      <td>two</td>\n      <td>convertible</td>\n      <td>rwd</td>\n      <td>front</td>\n      <td>88.6</td>\n      <td>168.8</td>\n      <td>64.1</td>\n      <td>48.8</td>\n      <td>2548</td>\n      <td>0.811148</td>\n      <td>0.890278</td>\n      <td>0.816054</td>\n    </tr>\n    <tr>\n      <th>2</th>\n      <td>alfa-romero</td>\n      <td>122</td>\n      <td>two</td>\n      <td>hatchback</td>\n      <td>rwd</td>\n      <td>front</td>\n      <td>94.5</td>\n      <td>171.2</td>\n      <td>65.5</td>\n      <td>52.4</td>\n      <td>2823</td>\n      <td>0.822681</td>\n      <td>0.909722</td>\n      <td>0.876254</td>\n    </tr>\n    <tr>\n      <th>3</th>\n      <td>audi</td>\n      <td>164</td>\n      <td>four</td>\n      <td>sedan</td>\n      <td>fwd</td>\n      <td>front</td>\n      <td>99.8</td>\n      <td>176.6</td>\n      <td>66.2</td>\n      <td>54.3</td>\n      <td>2337</td>\n      <td>0.848630</td>\n      <td>0.919444</td>\n      <td>0.908027</td>\n    </tr>\n    <tr>\n      <th>4</th>\n      <td>audi</td>\n      <td>164</td>\n      <td>four</td>\n      <td>sedan</td>\n      <td>4wd</td>\n      <td>front</td>\n      <td>99.4</td>\n      <td>176.6</td>\n      <td>66.4</td>\n      <td>54.3</td>\n      <td>2824</td>\n      <td>0.848630</td>\n      <td>0.922222</td>\n      <td>0.908027</td>\n    </tr>\n    <tr>\n      <th>...</th>\n      <td>...</td>\n      <td>...</td>\n      <td>...</td>\n      <td>...</td>\n      <td>...</td>\n      <td>...</td>\n      <td>...</td>\n      <td>...</td>\n      <td>...</td>\n      <td>...</td>\n      <td>...</td>\n      <td>...</td>\n      <td>...</td>\n      <td>...</td>\n    </tr>\n    <tr>\n      <th>196</th>\n      <td>volvo</td>\n      <td>95</td>\n      <td>four</td>\n      <td>sedan</td>\n      <td>rwd</td>\n      <td>front</td>\n      <td>109.1</td>\n      <td>188.8</td>\n      <td>68.9</td>\n      <td>55.5</td>\n      <td>2952</td>\n      <td>0.907256</td>\n      <td>0.956944</td>\n      <td>0.928094</td>\n    </tr>\n    <tr>\n      <th>197</th>\n      <td>volvo</td>\n      <td>95</td>\n      <td>four</td>\n      <td>sedan</td>\n      <td>rwd</td>\n      <td>front</td>\n      <td>109.1</td>\n      <td>188.8</td>\n      <td>68.8</td>\n      <td>55.5</td>\n      <td>3049</td>\n      <td>0.907256</td>\n      <td>0.955556</td>\n      <td>0.928094</td>\n    </tr>\n    <tr>\n      <th>198</th>\n      <td>volvo</td>\n      <td>95</td>\n      <td>four</td>\n      <td>sedan</td>\n      <td>rwd</td>\n      <td>front</td>\n      <td>109.1</td>\n      <td>188.8</td>\n      <td>68.9</td>\n      <td>55.5</td>\n      <td>3012</td>\n      <td>0.907256</td>\n      <td>0.956944</td>\n      <td>0.928094</td>\n    </tr>\n    <tr>\n      <th>199</th>\n      <td>volvo</td>\n      <td>95</td>\n      <td>four</td>\n      <td>sedan</td>\n      <td>rwd</td>\n      <td>front</td>\n      <td>109.1</td>\n      <td>188.8</td>\n      <td>68.9</td>\n      <td>55.5</td>\n      <td>3217</td>\n      <td>0.907256</td>\n      <td>0.956944</td>\n      <td>0.928094</td>\n    </tr>\n    <tr>\n      <th>200</th>\n      <td>volvo</td>\n      <td>95</td>\n      <td>four</td>\n      <td>sedan</td>\n      <td>rwd</td>\n      <td>front</td>\n      <td>109.1</td>\n      <td>188.8</td>\n      <td>68.9</td>\n      <td>55.5</td>\n      <td>3062</td>\n      <td>0.907256</td>\n      <td>0.956944</td>\n      <td>0.928094</td>\n    </tr>\n  </tbody>\n</table>\n<p>201 rows × 14 columns</p>\n</div>"
     },
     "metadata": {},
     "output_type": "display_data"
    }
   ],
   "source": [
    "segmentierung_gold  = ['marke', 'normalisierter-verlustwert', 'türnummern', 'körperform', 'antriebsräder', 'motorstandort', 'radstand', 'länge', 'breite', 'höhe', 'leergewicht', 'länge-norm', 'breite-norm', 'höhe-norm']\n",
    "\n",
    "safe_gold_usecase(silber_df, segmentierung_gold, 'segmentierung')"
   ],
   "metadata": {
    "collapsed": false,
    "ExecuteTime": {
     "end_time": "2024-02-29T15:09:58.740293700Z",
     "start_time": "2024-02-29T15:09:58.595219Z"
    }
   },
   "id": "199dc5461e1fe7a8"
  },
  {
   "cell_type": "markdown",
   "source": [
    "### Preisvorhersage\n",
    "Verschiedenen Merkmale um den Preis eines Fahrzeugs vorherzusagen. Dies kann für Händler und Kunden gleichermaßen nützlich sein."
   ],
   "metadata": {
    "collapsed": false
   },
   "id": "1f3b46ed86d59fb3"
  },
  {
   "cell_type": "code",
   "execution_count": 10,
   "outputs": [
    {
     "data": {
      "text/plain": "     risikoniveau        marke kraftstofftyp türnummern antriebsräder  \\\n0               3  alfa-romero           gas        two           rwd   \n1               3  alfa-romero           gas        two           rwd   \n2               1  alfa-romero           gas        two           rwd   \n3               2         audi           gas       four           fwd   \n4               2         audi           gas       four           4wd   \n..            ...          ...           ...        ...           ...   \n196            -1        volvo           gas       four           rwd   \n197            -1        volvo           gas       four           rwd   \n198            -1        volvo           gas       four           rwd   \n199            -1        volvo        diesel       four           rwd   \n200            -1        volvo           gas       four           rwd   \n\n    motorstandort motortyp anzahl-der-zylinder pferdestärken-binned    preis  \n0           front     dohc                four              niedrig  13495.0  \n1           front     dohc                four              niedrig  16500.0  \n2           front     ohcv                 six               mittel  16500.0  \n3           front      ohc                four              niedrig  13950.0  \n4           front      ohc                five              niedrig  17450.0  \n..            ...      ...                 ...                  ...      ...  \n196         front      ohc                four              niedrig  16845.0  \n197         front      ohc                four               mittel  19045.0  \n198         front     ohcv                 six               mittel  21485.0  \n199         front      ohc                 six              niedrig  22470.0  \n200         front      ohc                four              niedrig  22625.0  \n\n[201 rows x 10 columns]",
      "text/html": "<div>\n<style scoped>\n    .dataframe tbody tr th:only-of-type {\n        vertical-align: middle;\n    }\n\n    .dataframe tbody tr th {\n        vertical-align: top;\n    }\n\n    .dataframe thead th {\n        text-align: right;\n    }\n</style>\n<table border=\"1\" class=\"dataframe\">\n  <thead>\n    <tr style=\"text-align: right;\">\n      <th></th>\n      <th>risikoniveau</th>\n      <th>marke</th>\n      <th>kraftstofftyp</th>\n      <th>türnummern</th>\n      <th>antriebsräder</th>\n      <th>motorstandort</th>\n      <th>motortyp</th>\n      <th>anzahl-der-zylinder</th>\n      <th>pferdestärken-binned</th>\n      <th>preis</th>\n    </tr>\n  </thead>\n  <tbody>\n    <tr>\n      <th>0</th>\n      <td>3</td>\n      <td>alfa-romero</td>\n      <td>gas</td>\n      <td>two</td>\n      <td>rwd</td>\n      <td>front</td>\n      <td>dohc</td>\n      <td>four</td>\n      <td>niedrig</td>\n      <td>13495.0</td>\n    </tr>\n    <tr>\n      <th>1</th>\n      <td>3</td>\n      <td>alfa-romero</td>\n      <td>gas</td>\n      <td>two</td>\n      <td>rwd</td>\n      <td>front</td>\n      <td>dohc</td>\n      <td>four</td>\n      <td>niedrig</td>\n      <td>16500.0</td>\n    </tr>\n    <tr>\n      <th>2</th>\n      <td>1</td>\n      <td>alfa-romero</td>\n      <td>gas</td>\n      <td>two</td>\n      <td>rwd</td>\n      <td>front</td>\n      <td>ohcv</td>\n      <td>six</td>\n      <td>mittel</td>\n      <td>16500.0</td>\n    </tr>\n    <tr>\n      <th>3</th>\n      <td>2</td>\n      <td>audi</td>\n      <td>gas</td>\n      <td>four</td>\n      <td>fwd</td>\n      <td>front</td>\n      <td>ohc</td>\n      <td>four</td>\n      <td>niedrig</td>\n      <td>13950.0</td>\n    </tr>\n    <tr>\n      <th>4</th>\n      <td>2</td>\n      <td>audi</td>\n      <td>gas</td>\n      <td>four</td>\n      <td>4wd</td>\n      <td>front</td>\n      <td>ohc</td>\n      <td>five</td>\n      <td>niedrig</td>\n      <td>17450.0</td>\n    </tr>\n    <tr>\n      <th>...</th>\n      <td>...</td>\n      <td>...</td>\n      <td>...</td>\n      <td>...</td>\n      <td>...</td>\n      <td>...</td>\n      <td>...</td>\n      <td>...</td>\n      <td>...</td>\n      <td>...</td>\n    </tr>\n    <tr>\n      <th>196</th>\n      <td>-1</td>\n      <td>volvo</td>\n      <td>gas</td>\n      <td>four</td>\n      <td>rwd</td>\n      <td>front</td>\n      <td>ohc</td>\n      <td>four</td>\n      <td>niedrig</td>\n      <td>16845.0</td>\n    </tr>\n    <tr>\n      <th>197</th>\n      <td>-1</td>\n      <td>volvo</td>\n      <td>gas</td>\n      <td>four</td>\n      <td>rwd</td>\n      <td>front</td>\n      <td>ohc</td>\n      <td>four</td>\n      <td>mittel</td>\n      <td>19045.0</td>\n    </tr>\n    <tr>\n      <th>198</th>\n      <td>-1</td>\n      <td>volvo</td>\n      <td>gas</td>\n      <td>four</td>\n      <td>rwd</td>\n      <td>front</td>\n      <td>ohcv</td>\n      <td>six</td>\n      <td>mittel</td>\n      <td>21485.0</td>\n    </tr>\n    <tr>\n      <th>199</th>\n      <td>-1</td>\n      <td>volvo</td>\n      <td>diesel</td>\n      <td>four</td>\n      <td>rwd</td>\n      <td>front</td>\n      <td>ohc</td>\n      <td>six</td>\n      <td>niedrig</td>\n      <td>22470.0</td>\n    </tr>\n    <tr>\n      <th>200</th>\n      <td>-1</td>\n      <td>volvo</td>\n      <td>gas</td>\n      <td>four</td>\n      <td>rwd</td>\n      <td>front</td>\n      <td>ohc</td>\n      <td>four</td>\n      <td>niedrig</td>\n      <td>22625.0</td>\n    </tr>\n  </tbody>\n</table>\n<p>201 rows × 10 columns</p>\n</div>"
     },
     "metadata": {},
     "output_type": "display_data"
    }
   ],
   "source": [
    "preisvorhersage_gold  = ['risikoniveau', 'marke', 'kraftstofftyp', 'türnummern', 'antriebsräder', 'motorstandort', 'motortyp', 'anzahl-der-zylinder', 'pferdestärken-binned', 'preis']\n",
    "\n",
    "safe_gold_usecase(silber_df, preisvorhersage_gold, 'preisvorhersage')"
   ],
   "metadata": {
    "collapsed": false,
    "ExecuteTime": {
     "end_time": "2024-02-29T15:09:58.740293700Z",
     "start_time": "2024-02-29T15:09:58.633222300Z"
    }
   },
   "id": "a990bf177bdfc4bc"
  }
 ],
 "metadata": {
  "kernelspec": {
   "display_name": "Python 3",
   "language": "python",
   "name": "python3"
  },
  "language_info": {
   "codemirror_mode": {
    "name": "ipython",
    "version": 2
   },
   "file_extension": ".py",
   "mimetype": "text/x-python",
   "name": "python",
   "nbconvert_exporter": "python",
   "pygments_lexer": "ipython2",
   "version": "2.7.6"
  }
 },
 "nbformat": 4,
 "nbformat_minor": 5
}
